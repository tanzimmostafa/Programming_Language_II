{
  "nbformat": 4,
  "nbformat_minor": 0,
  "metadata": {
    "kernelspec": {
      "display_name": "Python 3",
      "language": "python",
      "name": "python3"
    },
    "language_info": {
      "codemirror_mode": {
        "name": "ipython",
        "version": 3
      },
      "file_extension": ".py",
      "mimetype": "text/x-python",
      "name": "python",
      "nbconvert_exporter": "python",
      "pygments_lexer": "ipython3",
      "version": "3.8.3"
    },
    "colab": {
      "name": "Assignment7_20301469Mahdi.ipynb",
      "provenance": [],
      "collapsed_sections": []
    }
  },
  "cells": [
    {
      "cell_type": "code",
      "metadata": {
        "colab": {
          "base_uri": "https://localhost:8080/"
        },
        "id": "lvhc6XP7zjjH",
        "outputId": "8de7495f-84d7-42cc-a94e-85904919ce4e"
      },
      "source": [
        "#Task1\n",
        "class Student:\n",
        "    def __init__(self, name='Just a student', dept='nothing'):\n",
        "        self.__name = name\n",
        "        self.__department = dept\n",
        "    def set_department(self, dept):\n",
        "        self.__department = dept\n",
        "    def get_name(self):\n",
        "        return self.__name\n",
        "    def set_name(self,name):\n",
        "        self.__name = name\n",
        "    def __str__(self):\n",
        "        return 'Name: '+self.__name+' Department: '+self.__department\n",
        "\n",
        "#write your code here\n",
        "class BBA_Student(Student):\n",
        "    def __init__(self,name = 'Default', dept = 'BBA'):\n",
        "        super().__init__(name,dept)\n",
        "       \n",
        "        \n",
        "    \n",
        "        \n",
        "print(BBA_Student())\n",
        "print(BBA_Student('Humpty Dumpty'))\n",
        "print(BBA_Student('Little Bo Peep'))"
      ],
      "execution_count": null,
      "outputs": [
        {
          "output_type": "stream",
          "text": [
            "Name: Default Department: BBA\n",
            "Name: Humpty Dumpty Department: BBA\n",
            "Name: Little Bo Peep Department: BBA\n"
          ],
          "name": "stdout"
        }
      ]
    },
    {
      "cell_type": "code",
      "metadata": {
        "colab": {
          "base_uri": "https://localhost:8080/"
        },
        "id": "ulx8DaUTzjjL",
        "outputId": "8e43fc07-d55c-430f-a550-adc64636991d"
      },
      "source": [
        "#Task2\n",
        "class Vehicle:\n",
        "    def __init__(self):\n",
        "        self.x = 0\n",
        "        self.y = 0\n",
        "    def moveUp(self):\n",
        "        self.y+=1\n",
        "    def moveDown(self):\n",
        "        self.y-=1\n",
        "    def moveRight(self):\n",
        "        self.x+=1\n",
        "    def moveLeft(self):\n",
        "        self.x-=1\n",
        "    def __str__(self):\n",
        "        return '('+str(self.x)+' , '+str(self.y)+')'\n",
        "#write your code here\n",
        "\n",
        "class Vehicle2010(Vehicle):\n",
        "    \n",
        "    def moveUpperRight(self):\n",
        "      self.moveUp()\n",
        "      self.moveRight()\n",
        "\n",
        "    def moveUpperLeft(self):\n",
        "      self.moveUp()\n",
        "      self.moveLeft()\n",
        "\n",
        "    def moveLowerRight(self):\n",
        "      self.moveDown()\n",
        "      self.moveRight()\n",
        "\n",
        "    def moveLowerLeft(self):\n",
        "      self.moveDown()\n",
        "      self.moveLeft()  \n",
        "\n",
        "    def equals(self,other):\n",
        "        if (self.x==other.x) and (self.y==other.y):\n",
        "            return 'True'\n",
        "        else:\n",
        "            return 'False'\n",
        "        \n",
        "print('Part 1')\n",
        "print('------')\n",
        "car = Vehicle()\n",
        "print(car)\n",
        "car.moveUp()\n",
        "print(car)\n",
        "car.moveLeft()\n",
        "print(car)\n",
        "car.moveDown()\n",
        "print(car)\n",
        "car.moveRight()\n",
        "print(car)\n",
        "print('------')\n",
        "print('Part 2')\n",
        "print('------')\n",
        "car1 = Vehicle2010()\n",
        "print(car1)\n",
        "car1.moveLowerLeft()\n",
        "print(car1)\n",
        "car2 = Vehicle2010()\n",
        "car2.moveLeft()\n",
        "print(car1.equals(car2))\n",
        "car2.moveDown()\n",
        "print(car1.equals(car2))"
      ],
      "execution_count": null,
      "outputs": [
        {
          "output_type": "stream",
          "text": [
            "Part 1\n",
            "------\n",
            "(0 , 0)\n",
            "(0 , 1)\n",
            "(-1 , 1)\n",
            "(-1 , 0)\n",
            "(0 , 0)\n",
            "------\n",
            "Part 2\n",
            "------\n",
            "(0 , 0)\n",
            "(-1 , -1)\n",
            "False\n",
            "True\n"
          ],
          "name": "stdout"
        }
      ]
    },
    {
      "cell_type": "code",
      "metadata": {
        "id": "ghFrhHu-zjjN",
        "outputId": "c4b13e2e-f1b7-4e66-815f-047da6b6627c",
        "colab": {
          "base_uri": "https://localhost:8080/"
        }
      },
      "source": [
        "#Task3\n",
        "class Tournament:\n",
        "    def __init__(self,name='Default'):\n",
        "        self.__name = name\n",
        "    def set_name(self,name):\n",
        "        self.__name = name\n",
        "    def get_name(self):\n",
        "        return self.__name\n",
        "class Cricket_Tournament(Tournament):\n",
        "    def __init__(self,name = 'Default', team = 0, tpe = 'No type'):\n",
        "        super().__init__(name)\n",
        "        self.team = team \n",
        "        self.tpe = tpe\n",
        "    def detail(self):\n",
        "        z = 'Cricekt Tournament:{}\\nNumber of Teams: {}\\nType: {}'.format(self.get_name(),self.team,self.tpe)\n",
        "        return z\n",
        "class Tennis_Tournament(Tournament):\n",
        "    def __init__(self, name = '', team = 0):\n",
        "        super().__init__(name)\n",
        "        self.team = team \n",
        "    def detail(self):\n",
        "        z = 'Tennis Tournament:{} \\nNumber of Players {}'.format(self.get_name(), self.team)\n",
        "        return z\n",
        "#write your code here\n",
        "ct1 = Cricket_Tournament()\n",
        "print(ct1.detail())\n",
        "print(\"-----------------------\")\n",
        "ct2 = Cricket_Tournament(\"IPL\",10,\"t20\")\n",
        "print(ct2.detail())\n",
        "print(\"-----------------------\")\n",
        "tt = Tennis_Tournament(\"Roland Garros\",128)\n",
        "print(tt.detail())"
      ],
      "execution_count": 1,
      "outputs": [
        {
          "output_type": "stream",
          "name": "stdout",
          "text": [
            "Cricekt Tournament:Default\n",
            "Number of Teams: 0\n",
            "Type: No type\n",
            "-----------------------\n",
            "Cricekt Tournament:IPL\n",
            "Number of Teams: 10\n",
            "Type: t20\n",
            "-----------------------\n",
            "Tennis Tournament:Roland Garros \n",
            "Number of Players 128\n"
          ]
        }
      ]
    },
    {
      "cell_type": "code",
      "metadata": {
        "colab": {
          "base_uri": "https://localhost:8080/"
        },
        "id": "ynqIswkyzjjO",
        "outputId": "9bd71deb-7ca0-46ff-c5f4-655cda73caad"
      },
      "source": [
        "#Task4\n",
        "class Product:\n",
        "    def __init__(self,id, title, price):\n",
        "        self.__id = id\n",
        "        self. __title = title\n",
        "        self. __price = price\n",
        "    def get_id_title_price(self):\n",
        "        return \"ID: \"+str(self.__id)+\" Title:\"+self.__title+\" Price: \"+ str(self.__price)\n",
        "\n",
        "class Book(Product):\n",
        "    def __init__(self,id= 0, title ='', price = 0, code = '', publ = ''):\n",
        "        super().__init__(id,title,price)\n",
        "        self.code = code\n",
        "        self.publ = publ\n",
        "    def printDetail(self):\n",
        "        z = '{} \\nISNB: {} Publisher: {}'.format(self.get_id_title_price(), self.code,self.publ)\n",
        "        return z\n",
        "class CD(Product):\n",
        "    def __init__(self,id= 0, title ='', price = 0, band = '',duration = 0, genre = ''):\n",
        "        super().__init__(id,title,price)\n",
        "        self.band = band\n",
        "        self.duration = duration\n",
        "        self.genre = genre\n",
        "    def printDetail(self):\n",
        "        z = '{} \\nBand: {} Duration: {}minutes\\nGenre: {}'.format(self.get_id_title_price(), self.band, self.duration,self.genre)\n",
        "        return z\n",
        "book = Book(1,\"The Alchemist\",500,\"97806\",\"HarperCollins\")\n",
        "print(book.printDetail())\n",
        "print(\"-----------------------\")\n",
        "cd = CD(2,\"Shotto\",300,\"Warfaze\",50,\"Hard Rock\")\n",
        "print(cd.printDetail())"
      ],
      "execution_count": null,
      "outputs": [
        {
          "output_type": "stream",
          "text": [
            "ID: 1 Title:The Alchemist Price: 500 \n",
            "ISNB: 97806 Publisher: HarperCollins\n",
            "-----------------------\n",
            "ID: 2 Title:Shotto Price: 300 \n",
            "Band: Warfaze Duration: 50minutes\n",
            "Genre: Hard Rock\n"
          ],
          "name": "stdout"
        }
      ]
    },
    {
      "cell_type": "code",
      "metadata": {
        "colab": {
          "base_uri": "https://localhost:8080/"
        },
        "id": "9pcNxsmuzjjP",
        "outputId": "e6e40639-c313-42b3-8172-ed3b5dc897ab"
      },
      "source": [
        "#task5\n",
        "class Animal:\n",
        "    def __init__(self,sound):\n",
        "        self.__sound = sound\n",
        "    def makeSound(self):\n",
        "        return self.__sound\n",
        "\n",
        "class Printer:\n",
        "    def printSound(self, a):\n",
        "        print(a.makeSound())\n",
        "#write your code here\n",
        "class Dog(Animal):\n",
        "  pass\n",
        "class Cat(Animal):\n",
        "  pass\n",
        "\n",
        "d1 = Dog('bark')\n",
        "c1 = Cat('meow')\n",
        "a1 = Animal('Animal does not make sound')\n",
        "pr = Printer()\n",
        "pr.printSound(a1)\n",
        "pr.printSound(c1)\n",
        "pr.printSound(d1)"
      ],
      "execution_count": null,
      "outputs": [
        {
          "output_type": "stream",
          "text": [
            "Animal does not make sound\n",
            "meow\n",
            "bark\n"
          ],
          "name": "stdout"
        }
      ]
    },
    {
      "cell_type": "code",
      "metadata": {
        "id": "c8ptZcwM2MpL",
        "colab": {
          "base_uri": "https://localhost:8080/"
        },
        "outputId": "cda7a861-cf9c-43c3-c89b-223e97a1ca22"
      },
      "source": [
        "#task6 shorter\n",
        "class Shape:\n",
        "    def __init__(self, name='Default', height=0, base=0):\n",
        "        self.area = 0\n",
        "        self.name = name\n",
        "        self.height = height\n",
        "        self.base = base\n",
        "    def get_height_base(self):\n",
        "        return \"Height: \"+str(self.height)+\",Base: \"+str(self.base)\n",
        "#write your code here\n",
        "\n",
        "class triangle(Shape):\n",
        "    def calcArea(self):\n",
        "        self.area = self.height*self.base*0.5    \n",
        "    def printDetail(self):\n",
        "        A = 'Shape name: {}\\n{}\\nArea: {}'.format(self.name, self.get_height_base(), self.area)\n",
        "        return A\n",
        "class trapezoid(Shape):\n",
        "    def __init__(self, name, height=0, base=0,base2 = 0):\n",
        "        super().__init__(name,height,base)\n",
        "        self.base2 = base2    \n",
        "    def calcArea(self):\n",
        "        self.area = ((self.base+self.base2)/2)*self.height \n",
        "    def printDetail(self):\n",
        "        A = 'Shape name: {}\\n{},Side_A: {}\\nArea: {}'.format(self.name, self.get_height_base(),self.base2, self.area)\n",
        "        return A\n",
        "tri_default = triangle()\n",
        "tri_default.calcArea()\n",
        "print(tri_default.printDetail())\n",
        "print('--------------------------')\n",
        "tri = triangle('Triangle', 10, 5)\n",
        "tri.calcArea()\n",
        "print(tri.printDetail())\n",
        "print('---------------------------')\n",
        "trap = trapezoid('Trapezoid', 10, 6, 4)\n",
        "trap.calcArea()\n",
        "print(trap.printDetail())"
      ],
      "execution_count": 3,
      "outputs": [
        {
          "output_type": "stream",
          "name": "stdout",
          "text": [
            "Shape name: Default\n",
            "Height: 0,Base: 0\n",
            "Area: 0.0\n",
            "--------------------------\n",
            "Shape name: Triangle\n",
            "Height: 10,Base: 5\n",
            "Area: 25.0\n",
            "---------------------------\n",
            "Shape name: Trapezoid\n",
            "Height: 10,Base: 6,Side_A: 4\n",
            "Area: 50.0\n"
          ]
        }
      ]
    },
    {
      "cell_type": "code",
      "metadata": {
        "colab": {
          "base_uri": "https://localhost:8080/"
        },
        "id": "B65jNNd_zjjP",
        "outputId": "f3ad5641-7c88-4f49-b9d2-e41b9e7e262e"
      },
      "source": [
        "#task6 longer\n",
        "class Shape:\n",
        "    def __init__(self, name='Default', height=0, base=0):\n",
        "        self.area = 0\n",
        "        self.name = name\n",
        "        self.height = height\n",
        "        self.base = base\n",
        "    def get_height_base(self):\n",
        "        return \"Height: \"+str(self.height)+\",Base: \"+str(self.base)\n",
        "#write your code here\n",
        "\n",
        "class triangle(Shape):\n",
        "    def __init__(self, name='Default', height=0, base=0):\n",
        "        super().__init__(name,height,base)\n",
        "        self.z = 0\n",
        "    def calcArea(self):\n",
        "        self.z = self.height*self.base*0.5    \n",
        "    def printDetail(self):\n",
        "        A = 'Shape name: {}\\n{}\\nArea: {}'.format(self.name, self.get_height_base(), self.z)\n",
        "        return A\n",
        "class trapezoid(Shape):\n",
        "    def __init__(self, name, height=0, base=0,base2 = 0):\n",
        "        super().__init__(name,height,base)\n",
        "        self.base2 = base2\n",
        "        self.z = 0\n",
        "    def calcArea(self):\n",
        "        self.z = ((self.base+self.base2)/2)*self.height \n",
        "    def printDetail(self):\n",
        "        A = 'Shape name: {}\\n{},Side_A: {}\\nArea: {}'.format(self.name, self.get_height_base(),self.base2, self.z)\n",
        "        return A\n",
        "tri_default = triangle()\n",
        "tri_default.calcArea()\n",
        "print(tri_default.printDetail())\n",
        "print('--------------------------')\n",
        "tri = triangle('Triangle', 10, 5)\n",
        "tri.calcArea()\n",
        "print(tri.printDetail())\n",
        "print('---------------------------')\n",
        "trap = trapezoid('Trapezoid', 10, 6, 4)\n",
        "trap.calcArea()\n",
        "print(trap.printDetail())"
      ],
      "execution_count": null,
      "outputs": [
        {
          "output_type": "stream",
          "text": [
            "Shape name: Default\n",
            "Height: 0,Base: 0\n",
            "Area: 0.0\n",
            "--------------------------\n",
            "Shape name: Triangle\n",
            "Height: 10,Base: 5\n",
            "Area: 25.0\n",
            "---------------------------\n",
            "Shape name: Trapezoid\n",
            "Height: 10,Base: 6,Side_A: 4\n",
            "Area: 50.0\n"
          ],
          "name": "stdout"
        }
      ]
    },
    {
      "cell_type": "code",
      "metadata": {
        "colab": {
          "base_uri": "https://localhost:8080/"
        },
        "id": "jXZJsWgkzjjR",
        "outputId": "7569acaf-a05f-4b2e-b170-17ba798a859a"
      },
      "source": [
        "#Task7\n",
        "class Football:\n",
        "    def __init__(self, team_name, name, role):\n",
        "        self.__team = team_name\n",
        "        self.__name = name\n",
        "        self.role = role\n",
        "        self.earning_per_match = 0\n",
        "    def get_name_team(self):\n",
        "        return 'Name: '+self.__name+', Team Name: ' +self.__team\n",
        "#write your code here\n",
        "class Player(Football):\n",
        "    def __init__(self, team_name, name, role, goal,played):\n",
        "        super().__init__(team_name,name,role)\n",
        "        self.goal = goal\n",
        "        self.played = played\n",
        "        self.earning_per_match = (self.goal*1000)+(self.played*10)\n",
        "        self.ratio = 0\n",
        "    def calculate_ratio(self):\n",
        "        self.ratio = self.goal/self.played\n",
        "    def print_details(self):\n",
        "        S = '{}\\nTeam Role: {}\\nTotal Goal:{}, Total Played: {}\\nGoal Ratio: {}\\nMatch Earning: {}K'.format(self.get_name_team(),self.role,self.goal,self.played,self.ratio, self.earning_per_match)\n",
        "        print(S)\n",
        "class Manager(Football):\n",
        "    def __init__(self, team_name, name, role, win):\n",
        "        super().__init__(team_name,name,role)\n",
        "        self.win = win\n",
        "        self.earning_per_match = (self.win*1000)\n",
        "        \n",
        "    def print_details(self):\n",
        "        S = '{}\\nTeam Role: {}\\nTotal Win:{}\\nMatch Earning: {}K'.format(self.get_name_team(),self.role,self.win, self.earning_per_match)\n",
        "        print(S)\n",
        "        \n",
        "player_one = Player('Juventus', 'Ronaldo', 'Striker', 25, 32)\n",
        "player_one.calculate_ratio()\n",
        "player_one.print_details()\n",
        "print('------------------------------------------')\n",
        "manager_one = Manager('Real Madrid', 'Zidane', 'Manager', 25)\n",
        "manager_one.print_details()"
      ],
      "execution_count": null,
      "outputs": [
        {
          "output_type": "stream",
          "text": [
            "Name: Ronaldo, Team Name: Juventus\n",
            "Team Role: Striker\n",
            "Total Goal:25, Total Played: 32\n",
            "Goal Ratio: 0.78125\n",
            "Match Earning: 25320K\n",
            "------------------------------------------\n",
            "Name: Zidane, Team Name: Real Madrid\n",
            "Team Role: Manager\n",
            "Total Win:25\n",
            "Match Earning: 25000K\n"
          ],
          "name": "stdout"
        }
      ]
    }
  ]
}