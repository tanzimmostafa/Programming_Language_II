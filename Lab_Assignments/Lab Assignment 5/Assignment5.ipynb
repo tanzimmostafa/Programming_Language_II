{
  "nbformat": 4,
  "nbformat_minor": 0,
  "metadata": {
    "kernelspec": {
      "display_name": "Python 3",
      "language": "python",
      "name": "python3"
    },
    "language_info": {
      "codemirror_mode": {
        "name": "ipython",
        "version": 3
      },
      "file_extension": ".py",
      "mimetype": "text/x-python",
      "name": "python",
      "nbconvert_exporter": "python",
      "pygments_lexer": "ipython3",
      "version": "3.8.3"
    },
    "colab": {
      "name": "Assignment5_20301469Mahdi_(1).ipynb",
      "provenance": [],
      "collapsed_sections": []
    }
  },
  "cells": [
    {
      "cell_type": "code",
      "metadata": {
        "id": "XiKUO3g3rKCV",
        "outputId": "b06010db-a3b5-43f7-dcfb-25dadf297d6c"
      },
      "source": [
        "#A1\n",
        "class Marks:\n",
        "    def __init__(self,x):\n",
        "        self.mark=x\n",
        "    def __add__(self, other):\n",
        "        return Marks(self.mark+other.mark)\n",
        "Q1 = Marks(int(input(\"Quiz 1 (out of 10): \")))\n",
        "Q2 = Marks(int(input(\"Quiz 2 (out of 10): \")))\n",
        "Lab = Marks(int(input(\"Lab (out of 30): \")))\n",
        "Mid = Marks(int(input(\"Mid (out of 20): \")))\n",
        "Final = Marks(int(input(\"Final (out of 30): \")))\n",
        "total = Q1 + Q2 + Lab + Mid + Final #total is a Marks object\n",
        "#I think since there's L to R assignment every 1 addition a marks object is returned\n",
        "print(\"Total marks: {}\".format(total.mark))\n"
      ],
      "execution_count": null,
      "outputs": [
        {
          "output_type": "stream",
          "text": [
            "Quiz 1 (out of 10):  10\n",
            "Quiz 2 (out of 10):  10\n",
            "Lab (out of 30):  30\n",
            "Mid (out of 20):  20\n",
            "Final (out of 30):  30\n"
          ],
          "name": "stdin"
        },
        {
          "output_type": "stream",
          "text": [
            "Total marks: 100\n"
          ],
          "name": "stdout"
        }
      ]
    },
    {
      "cell_type": "code",
      "metadata": {
        "id": "8Rt-1y2vrKCZ",
        "colab": {
          "base_uri": "https://localhost:8080/"
        },
        "outputId": "003a75c7-451a-453b-9612-ccf5bff562ea"
      },
      "source": [
        "#A2\n",
        "class Course:\n",
        "    def __init__(self,course):\n",
        "        self.course = course#by default variables in python are public\n",
        "    \n",
        "class Teacher:\n",
        "    def __init__(self,name,dept):\n",
        "        self.__name = name #private variable\n",
        "        self.__dept = dept\n",
        "        self.__course_lst = [] #list of course objects\n",
        "    def addCourse(self,x):\n",
        "        self.__course_lst.append(x)\n",
        "    def printDetail(self):\n",
        "        print('====================================')\n",
        "        print('Name:',self.__name) #private variables can be accessed inside same class\n",
        "        print('Department:',self.__dept)\n",
        "        print('List of Courses')\n",
        "        print('====================================')\n",
        "        for x in self.__course_lst:\n",
        "            print(x.course)\n",
        "        print('====================================')\n",
        "\n",
        "t1 = Teacher(\"Saad Abdullah\", \"CSE\")\n",
        "t2 = Teacher(\"Mumit Khan\", \"CSE\")\n",
        "t3 = Teacher(\"Sadia Kazi\", \"CSE\")\n",
        "c1 = Course(\"CSE 110 Programming Language I\")\n",
        "c2 = Course(\"CSE 111 Programming Language-II\")\n",
        "c3 = Course(\"CSE 220 Data Structures\")\n",
        "c4 = Course(\"CSE 221 Algorithms\")\n",
        "c5 = Course(\"CCSE 230 Discrete Mathematics\")\n",
        "c6 = Course(\"CSE 310 Object Oriented Programming\")\n",
        "c7 = Course(\"CSE 320 Data Communications\")\n",
        "c8 = Course(\"CSE 340 Computer Architecture\")\n",
        "t1.addCourse(c1)\n",
        "t1.addCourse(c2)\n",
        "t2.addCourse(c3)\n",
        "t2.addCourse(c4)\n",
        "t2.addCourse(c5)\n",
        "t3.addCourse(c6)\n",
        "t3.addCourse(c7)\n",
        "t3.addCourse(c8)\n",
        "t1.printDetail()\n",
        "t2.printDetail()\n",
        "t3.printDetail()"
      ],
      "execution_count": 1,
      "outputs": [
        {
          "output_type": "stream",
          "name": "stdout",
          "text": [
            "====================================\n",
            "Name: Saad Abdullah\n",
            "Department: CSE\n",
            "List of Courses\n",
            "====================================\n",
            "CSE 110 Programming Language I\n",
            "CSE 111 Programming Language-II\n",
            "====================================\n",
            "====================================\n",
            "Name: Mumit Khan\n",
            "Department: CSE\n",
            "List of Courses\n",
            "====================================\n",
            "CSE 220 Data Structures\n",
            "CSE 221 Algorithms\n",
            "CCSE 230 Discrete Mathematics\n",
            "====================================\n",
            "====================================\n",
            "Name: Sadia Kazi\n",
            "Department: CSE\n",
            "List of Courses\n",
            "====================================\n",
            "CSE 310 Object Oriented Programming\n",
            "CSE 320 Data Communications\n",
            "CSE 340 Computer Architecture\n",
            "====================================\n"
          ]
        }
      ]
    },
    {
      "cell_type": "code",
      "metadata": {
        "colab": {
          "base_uri": "https://localhost:8080/"
        },
        "id": "lgNgYJPSrKCa",
        "outputId": "0fe6755e-66f2-4a5c-9a29-9958590b1fe6"
      },
      "source": [
        "class Team:\n",
        "    def __init__(self, name=''):\n",
        "        self.__name=name\n",
        "        self.__player=[]\n",
        "    def setName(self,name):\n",
        "        self.__name=name\n",
        "    def addPlayer(self,obj):\n",
        "        self.__player.append(obj.player)\n",
        "    def printDetail(self):\n",
        "        print('==============')\n",
        "        print('Team:',self.__name)\n",
        "        print('List of Players:')\n",
        "        print(self.__player)\n",
        "        print('==============')\n",
        "        \n",
        "class Player:\n",
        "    def __init__(self,player):\n",
        "        self.player=player\n",
        "        \n",
        "        \n",
        "b = Team()\n",
        "b.setName('Bangladesh')\n",
        "mashrafi = Player(\"Mashrafi\")\n",
        "b.addPlayer(mashrafi)\n",
        "tamim = Player(\"Tamim\")\n",
        "b.addPlayer(tamim)\n",
        "b.printDetail()\n",
        "a = Team(\"Australia\")\n",
        "ponting = Player(\"Ponting\")\n",
        "a.addPlayer(ponting)\n",
        "lee = Player(\"Lee\")\n",
        "a.addPlayer(lee)\n",
        "a.printDetail()"
      ],
      "execution_count": 2,
      "outputs": [
        {
          "output_type": "stream",
          "name": "stdout",
          "text": [
            "==============\n",
            "Team: Bangladesh\n",
            "List of Players:\n",
            "['Mashrafi', 'Tamim']\n",
            "==============\n",
            "==============\n",
            "Team: Australia\n",
            "List of Players:\n",
            "['Ponting', 'Lee']\n",
            "==============\n"
          ]
        }
      ]
    },
    {
      "cell_type": "code",
      "metadata": {
        "colab": {
          "base_uri": "https://localhost:8080/"
        },
        "id": "6rPbfZuNrKCa",
        "outputId": "28162a9f-5f20-4440-b943-c08394d52bfd"
      },
      "source": [
        "#A4\n",
        "class Color:\n",
        "    def __init__(self, clr):\n",
        "        self.clr=clr\n",
        "    def __add__(self, other):\n",
        "        if (self.clr=='red' and other.clr=='yellow') or (self.clr=='yellow' and other.clr=='red'):\n",
        "                a='Orange'\n",
        "                return Color(a)\n",
        "            \n",
        "        elif (self.clr=='red' and other.clr=='blue') or (self.clr=='blue' and other.clr=='red'):\n",
        "                a='Violet'\n",
        "                return Color(a)\n",
        "            \n",
        "        elif (self.clr=='yellow' and other.clr=='blue') or (self.clr=='blue' and other.clr=='yellow'):\n",
        "                a='Green' \n",
        "                return Color(a)\n",
        "        else:\n",
        "            return Color(self.clr)\n",
        "        \n",
        "C1 = Color(input(\"First Color: \").lower())\n",
        "C2 = Color(input(\"Second Color: \").lower())\n",
        "C3 = C1 + C2 \n",
        "\n",
        "print(\"Color formed:\", C3.clr)"
      ],
      "execution_count": null,
      "outputs": [
        {
          "output_type": "stream",
          "text": [
            "First Color: yellow\n",
            "Second Color: red\n",
            "Color formed: Orange\n"
          ],
          "name": "stdout"
        }
      ]
    },
    {
      "cell_type": "code",
      "metadata": {
        "colab": {
          "base_uri": "https://localhost:8080/"
        },
        "id": "lnqJ19_jrKCb",
        "outputId": "66922363-afcd-4c8e-8fb5-e781f672ba33"
      },
      "source": [
        "#A5\n",
        "import math\n",
        "class Circle:\n",
        "    def __init__(self, radius):\n",
        "        self.__radius=radius\n",
        "    def getRadius(self):\n",
        "        return self.__radius\n",
        "    def setRadius(self, radius):\n",
        "        self.__radius=radius\n",
        "    def area(self):\n",
        "        self.__area=math.pi*self.__radius*self.__radius\n",
        "        return self.__area \n",
        "    def __add__(self, other): #special method\n",
        "        a=self.__radius+other.__radius\n",
        "        return Circle(a)\n",
        "\n",
        "\n",
        "c1 = Circle(4)\n",
        "print(\"First circle radius:\" , c1.getRadius())\n",
        "print(\"First circle area:\" ,c1.area())\n",
        "c2 = Circle(5)\n",
        "print(\"Second circle radius:\" ,c2.getRadius())\n",
        "print(\"Second circle area:\" ,c2.area())\n",
        "c3 = c1 + c2\n",
        "print(\"Third circle radius:\" ,c3.getRadius())\n",
        "print(\"Third circle area:\" ,c3.area())"
      ],
      "execution_count": null,
      "outputs": [
        {
          "output_type": "stream",
          "text": [
            "First circle radius: 4\n",
            "First circle area: 50.26548245743669\n",
            "Second circle radius: 5\n",
            "Second circle area: 78.53981633974483\n",
            "Third circle radius: 9\n",
            "Third circle area: 254.46900494077323\n"
          ],
          "name": "stdout"
        }
      ]
    },
    {
      "cell_type": "code",
      "metadata": {
        "colab": {
          "base_uri": "https://localhost:8080/"
        },
        "id": "Wrc2J9YdrKCc",
        "outputId": "04b39cee-d848-41ce-96d0-1b4110bff3a0"
      },
      "source": [
        "#A6\n",
        "class Triangle:\n",
        "    def __init__(self, base, height):\n",
        "        self.__base=base\n",
        "        self.__height=height\n",
        "    def getBase(self):\n",
        "        return self.__base\n",
        "    def getHeight(self):\n",
        "        return self.__height\n",
        "    def setBase(self, base):\n",
        "        self.__base=base\n",
        "    def setHeight(self, height):\n",
        "        self.__height=height\n",
        "    def area(self):\n",
        "        self.area=.5*self.__base*self.__height\n",
        "        return self.area\n",
        "    def __sub__(self, other):\n",
        "        a=self.__base-other.__base\n",
        "        b=self.__height-other.__height\n",
        "        return Triangle(a,b)\n",
        "\n",
        "t1 = Triangle(10, 5)\n",
        "print(\"First Triangle Base:\" , t1.getBase())\n",
        "print(\"First Triangle Height:\" , t1.getHeight())\n",
        "print(\"First Triangle area:\" ,t1.area())\n",
        "t2 = Triangle(5, 3)\n",
        "print(\"Second Triangle Base:\" , t2.getBase())\n",
        "print(\"Second Triangle Height:\" , t2.getHeight())\n",
        "print(\"Second Triangle area:\" ,t2.area())\n",
        "t3 = t1 - t2\n",
        "print(\"Third Triangle Base:\" , t3.getBase())\n",
        "print(\"Third Triangle Height:\" , t3.getHeight())\n",
        "print(\"Third Triangle area:\" ,t3.area())"
      ],
      "execution_count": null,
      "outputs": [
        {
          "output_type": "stream",
          "text": [
            "First Triangle Base: 10\n",
            "First Triangle Height: 5\n",
            "First Triangle area: 25.0\n",
            "Second Triangle Base: 5\n",
            "Second Triangle Height: 3\n",
            "Second Triangle area: 7.5\n",
            "Third Triangle Base: 5\n",
            "Third Triangle Height: 2\n",
            "Third Triangle area: 5.0\n"
          ],
          "name": "stdout"
        }
      ]
    },
    {
      "cell_type": "code",
      "metadata": {
        "colab": {
          "base_uri": "https://localhost:8080/"
        },
        "id": "QibcgRksTyvF",
        "outputId": "4189f68e-139a-42b6-fb8f-80d95ce5f154"
      },
      "source": [
        "#A7 better way\n",
        "class Dolls:\n",
        "    def __init__(self, name, price, flag=False):\n",
        "            self.__name=name\n",
        "            self.__price=price\n",
        "            self.__flag=flag #indicates whether add method has been used\n",
        "    def detail(self):\n",
        "        if self.__flag==False:\n",
        "            return (\"Doll: {}\\nTotal Price: {}\").format(self.__name,self.__price)\n",
        "        else:\n",
        "            return (\"Dolls: {}\\nTotal Price: {}\").format(self.__name,self.__price)\n",
        "    def __add__(self, other):\n",
        "        a=self.__name+\" \"+other.__name\n",
        "        b=self.__price+other.__price\n",
        "        return Dolls(a,b, flag=True)\n",
        "    def __gt__(self, other):\n",
        "        if self.__price>other.__price:\n",
        "            return True\n",
        "        else:\n",
        "            return False\n",
        "obj_1 = Dolls(\"Tweety\", 2500)\n",
        "print(obj_1.detail())\n",
        "if obj_1 > obj_1:\n",
        "    print(\"Congratulations! You get the Tweety as a gift!\")\n",
        "else:\n",
        "    print(\"Thank you!\")\n",
        "print(\"=========================\")\n",
        "obj_2 = Dolls(\"Daffy Duck\", 1800)\n",
        "print(obj_2.detail())\n",
        "if obj_2 > obj_1:\n",
        "    print(\"Congratulations! You get the Tweety as a gift!\")\n",
        "else:\n",
        "    print(\"Thank you!\")\n",
        "print(\"=========================\")\n",
        "obj_3 = Dolls(\"Bugs Bunny\", 3000)\n",
        "print(obj_3.detail())\n",
        "if obj_3 > obj_1:\n",
        "    print(\"Congratulations! You get the Tweety as a gift!\")\n",
        "else:\n",
        "    print(\"Thank you!\")\n",
        "print(\"=========================\")\n",
        "obj_4 = Dolls(\"Porky Pig\", 1500)\n",
        "print(obj_4.detail())\n",
        "if obj_4 > obj_1:\n",
        "    print(\"Congratulations! You get the Tweety as a gift!\")\n",
        "else:\n",
        "    print(\"Thank you!\")\n",
        "print(\"=========================\")\n",
        "obj_5 = obj_2 + obj_3\n",
        "print(obj_5.detail())\n",
        "if obj_5 > obj_1:\n",
        "    print(\"Congratulations! You get the Tweety as a gift!\")\n",
        "else:\n",
        "    print(\"Thank you!\")"
      ],
      "execution_count": 4,
      "outputs": [
        {
          "output_type": "stream",
          "name": "stdout",
          "text": [
            "Doll: Tweety\n",
            "Total Price: 2500\n",
            "Thank you!\n",
            "=========================\n",
            "Doll: Daffy Duck\n",
            "Total Price: 1800\n",
            "Thank you!\n",
            "=========================\n",
            "Doll: Bugs Bunny\n",
            "Total Price: 3000\n",
            "Congratulations! You get the Tweety as a gift!\n",
            "=========================\n",
            "Doll: Porky Pig\n",
            "Total Price: 1500\n",
            "Thank you!\n",
            "=========================\n",
            "Dolls: Daffy Duck Bugs Bunny\n",
            "Total Price: 4800\n",
            "Congratulations! You get the Tweety as a gift!\n"
          ]
        }
      ]
    },
    {
      "cell_type": "code",
      "metadata": {
        "colab": {
          "base_uri": "https://localhost:8080/"
        },
        "id": "rI9Pe4_srKCd",
        "outputId": "f00166bc-cada-4dbe-c5b5-4a7a54adafe7"
      },
      "source": [
        "#A7 another way\n",
        "class Dolls:\n",
        "    def __init__(self, name, price, name2=None):\n",
        "        self.__flag=False#for printing Dolls\n",
        "        if name2==None:\n",
        "            self.__name=name\n",
        "            self.__price=price\n",
        "        else:#name2 is given\n",
        "            self.__name=name+\" \"+name2\n",
        "            self.__price=price\n",
        "            self.__flag=True\n",
        "    def detail(self):\n",
        "        if self.__flag==False:\n",
        "            return (\"Doll: {}\\nTotal Price: {}\").format(self.__name,self.__price)\n",
        "        else:\n",
        "            return (\"Dolls: {}\\nTotal Price: {}\").format(self.__name,self.__price)\n",
        "    def __add__(self, other):\n",
        "        b=self.__price+other.__price\n",
        "        #return type(self)(self.__name,self.__price)\n",
        "        return Dolls(self.__name,b,other.__name)\n",
        "    #def __str__(self):\n",
        "        #return '{}'.format(self.__name,self.__price)\n",
        "    def __gt__(self, other):\n",
        "        if self.__price>other.__price:\n",
        "            return True\n",
        "        else:\n",
        "            return False\n",
        "obj_1 = Dolls(\"Tweety\", 2500)\n",
        "print(obj_1.detail())\n",
        "if obj_1 > obj_1:\n",
        "    print(\"Congratulations! You get the Tweety as a gift!\")\n",
        "else:\n",
        "    print(\"Thank you!\")\n",
        "print(\"=========================\")\n",
        "obj_2 = Dolls(\"Daffy Duck\", 1800)\n",
        "print(obj_2.detail())\n",
        "if obj_2 > obj_1:\n",
        "    print(\"Congratulations! You get the Tweety as a gift!\")\n",
        "else:\n",
        "    print(\"Thank you!\")\n",
        "print(\"=========================\")\n",
        "obj_3 = Dolls(\"Bugs Bunny\", 3000)\n",
        "print(obj_3.detail())\n",
        "if obj_3 > obj_1:\n",
        "    print(\"Congratulations! You get the Tweety as a gift!\")\n",
        "else:\n",
        "    print(\"Thank you!\")\n",
        "print(\"=========================\")\n",
        "obj_4 = Dolls(\"Porky Pig\", 1500)\n",
        "print(obj_4.detail())\n",
        "if obj_4 > obj_1:\n",
        "    print(\"Congratulations! You get the Tweety as a gift!\")\n",
        "else:\n",
        "    print(\"Thank you!\")\n",
        "print(\"=========================\")\n",
        "obj_5 = obj_2 + obj_3\n",
        "print(obj_5.detail())\n",
        "if obj_5 > obj_1:\n",
        "    print(\"Congratulations! You get the Tweety as a gift!\")\n",
        "else:\n",
        "    print(\"Thank you!\")"
      ],
      "execution_count": null,
      "outputs": [
        {
          "output_type": "stream",
          "text": [
            "Doll: Tweety\n",
            "Total Price: 2500\n",
            "Thank you!\n",
            "=========================\n",
            "Doll: Daffy Duck\n",
            "Total Price: 1800\n",
            "Thank you!\n",
            "=========================\n",
            "Doll: Bugs Bunny\n",
            "Total Price: 3000\n",
            "Congratulations! You get the Tweety as a gift!\n",
            "=========================\n",
            "Doll: Porky Pig\n",
            "Total Price: 1500\n",
            "Thank you!\n",
            "=========================\n",
            "Dolls: Daffy Duck Bugs Bunny\n",
            "Total Price: 4800\n",
            "Congratulations! You get the Tweety as a gift!\n"
          ],
          "name": "stdout"
        }
      ]
    },
    {
      "cell_type": "code",
      "metadata": {
        "colab": {
          "base_uri": "https://localhost:8080/"
        },
        "id": "TFk3RVfErKCe",
        "outputId": "a4bd4b6b-fd65-4870-d2cf-faba41cc3771"
      },
      "source": [
        "#A8\n",
        "class Coordinates:\n",
        "    def __init__(self, val1, val2):\n",
        "        self.val1=val1\n",
        "        self.val2=val2\n",
        "    def __sub__(self, other):\n",
        "        return Coordinates(self.val1-other.val1,self.val2-other.val2)\n",
        "    def __mul__(self, other):\n",
        "        return Coordinates(self.val1*other.val1,self.val2*other.val2)\n",
        "    def __eq__(self, other):\n",
        "        if (self.val1==other.val1) and (self.val2==other.val2):\n",
        "            return 'The calculated coordinates are the same.'\n",
        "        else:\n",
        "            return 'The calculated coordinates are NOT the same.'\n",
        "    def detail(self):\n",
        "        return '('+str(self.val1)+','+str(self.val2)+')'\n",
        "p1 = Coordinates(int(input()),int(input()))\n",
        "p2 = Coordinates(int(input()),int(input()))\n",
        "p4 = p1 - p2\n",
        "print(p4.detail())\n",
        "p5 = p1 * p2\n",
        "print(p5.detail())\n",
        "point_check = (p4 == p5)\n",
        "print(point_check)"
      ],
      "execution_count": null,
      "outputs": [
        {
          "output_type": "stream",
          "text": [
            "1\n",
            "2\n",
            "3\n",
            "4\n",
            "(-2,-2)\n",
            "(3,8)\n",
            "The calculated coordinates are NOT the same.\n"
          ],
          "name": "stdout"
        }
      ]
    }
  ]
}