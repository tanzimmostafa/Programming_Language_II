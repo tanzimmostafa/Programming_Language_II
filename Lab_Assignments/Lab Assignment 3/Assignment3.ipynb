{
  "nbformat": 4,
  "nbformat_minor": 0,
  "metadata": {
    "kernelspec": {
      "display_name": "Python 3",
      "language": "python",
      "name": "python3"
    },
    "language_info": {
      "codemirror_mode": {
        "name": "ipython",
        "version": 3
      },
      "file_extension": ".py",
      "mimetype": "text/x-python",
      "name": "python",
      "nbconvert_exporter": "python",
      "pygments_lexer": "ipython3",
      "version": "3.8.3"
    },
    "colab": {
      "name": "Assignment3.ipynb",
      "provenance": [],
      "collapsed_sections": []
    }
  },
  "cells": [
    {
      "cell_type": "code",
      "metadata": {
        "id": "M2PASqTcLbkW",
        "outputId": "0ef5e017-822a-4906-9f48-b2f0d9916d1f"
      },
      "source": [
        "#Question1:\n",
        "class DataType:\n",
        "    def __init__(self,name,value):\n",
        "            self.name=name\n",
        "            self.value=value\n",
        "\n",
        "data_type1 = DataType('Integer', 1234)\n",
        "print(data_type1.name)\n",
        "print(data_type1.value)\n",
        "print('=====================')\n",
        "data_type2 = DataType('String', 'Hello')\n",
        "print(data_type2.name)\n",
        "print(data_type2.value)\n",
        "print('=====================')\n",
        "data_type3 = DataType('Float', 4.0)\n",
        "print(data_type3.name)\n",
        "print(data_type3.value)"
      ],
      "execution_count": null,
      "outputs": [
        {
          "output_type": "stream",
          "text": [
            "Integer\n",
            "1234\n",
            "=====================\n",
            "String\n",
            "Hello\n",
            "=====================\n",
            "Float\n",
            "4.0\n"
          ],
          "name": "stdout"
        }
      ]
    },
    {
      "cell_type": "code",
      "metadata": {
        "colab": {
          "base_uri": "https://localhost:8080/"
        },
        "id": "dxhpLeDPLbkb",
        "outputId": "05dab963-415b-40f5-864a-0144c640a5d2"
      },
      "source": [
        "#Question2\n",
        "class Flower:\n",
        "    def  __init__(self):#default constructor\n",
        "            self.name = \"\"\n",
        "            self.color = \"\"\n",
        "            self.num_of_petal = 0\n",
        "\n",
        "\n",
        "flower1 = Flower()\n",
        "flower1.name=\"Rose\"\n",
        "flower1.color=\"Red\"\n",
        "flower1.num_of_petal=6\n",
        "print(\"Name of this flower:\", flower1.name)\n",
        "print(\"Color of this flower:\",flower1.color)\n",
        "print(\"Number of petal:\",flower1.num_of_petal)\n",
        "print(\"=====================\")\n",
        "flower2 = Flower()\n",
        "flower2.name=\"Orchid\"\n",
        "flower2.color=\"Purple\"\n",
        "flower2.num_of_petal=4\n",
        "print(\"Name of this flower:\",flower2.name)\n",
        "print(\"Color of this flower:\",flower2.color)\n",
        "print (\"Number of petal:\",flower2. num_of_petal)\n",
        "\n",
        "\n",
        "x = flower1\n",
        "y = flower2\n",
        "\n",
        "#USE id() TO GET THE MEMORY ADDRESS OF AN OBJECT\n",
        "#Call hex(address) to convert the memory address to hexadecimal representation.\n",
        "\n",
        "print(x)\n",
        "print(y)\n",
        "\n",
        "add1=hex(id(x))\n",
        "add2=hex(id(y))\n",
        "print(add1)\n",
        "print(add2)\n",
        "if add1 == add2:\n",
        "    print(\"They are the same\")\n",
        "else:\n",
        "    print(\"They are different\")\n"
      ],
      "execution_count": 3,
      "outputs": [
        {
          "output_type": "stream",
          "name": "stdout",
          "text": [
            "Name of this flower: Rose\n",
            "Color of this flower: Red\n",
            "Number of petal: 6\n",
            "=====================\n",
            "Name of this flower: Orchid\n",
            "Color of this flower: Purple\n",
            "Number of petal: 4\n",
            "<__main__.Flower object at 0x7f4a631b4350>\n",
            "<__main__.Flower object at 0x7f4a631b49d0>\n",
            "0x7f4a631b4350\n",
            "0x7f4a631b49d0\n",
            "They are different\n"
          ]
        }
      ]
    },
    {
      "cell_type": "code",
      "metadata": {
        "colab": {
          "base_uri": "https://localhost:8080/"
        },
        "id": "QoaBitmeLbkc",
        "outputId": "d6fc9205-5bd0-48ff-a0e7-ea02ba37ce90"
      },
      "source": [
        "#Question3:\n",
        "class Wadiya():\n",
        "    def __init__(self):\n",
        "        self.name = 'Aladeen'\n",
        "        self.designation = 'President Prime Minister Admiral General'\n",
        "        self.num_of_wife = 100\n",
        "        self.dictator = True\n",
        "        \n",
        "wadiya = Wadiya()\n",
        "print(\"Part 1\")\n",
        "print(\"Name of President:\", wadiya.name)\n",
        "print(\"Designation:\", wadiya.designation)\n",
        "print(\"Number of wife:\",wadiya.num_of_wife)\n",
        "print(\"Is he/she a dictator:\", wadiya.dictator)\n",
        "\n",
        "\n",
        "wadiya.name = 'Donald Trump'\n",
        "wadiya.designation = 'President'\n",
        "wadiya.num_of_wife = 1\n",
        "wadiya.dictator = False\n",
        "print(\"Part 2\")\n",
        "print(\"Name of President:\", wadiya.name)\n",
        "print(\"Designation:\", wadiya.designation)\n",
        "print(\"Number of wife:\",wadiya.num_of_wife)\n",
        "print(\"Is he/she a dictator:\", wadiya.dictator)\n",
        "\n",
        "print('previous information lost')\n"
      ],
      "execution_count": null,
      "outputs": [
        {
          "output_type": "stream",
          "text": [
            "Part 1\n",
            "Name of President: Aladeen\n",
            "Designation: President Prime Minister Admiral General\n",
            "Number of wife: 100\n",
            "Is he/she a dictator: True\n",
            "Part 2\n",
            "Name of President: Donald Trump\n",
            "Designation: President\n",
            "Number of wife: 1\n",
            "Is he/she a dictator: False\n",
            "previous information lost\n"
          ],
          "name": "stdout"
        }
      ]
    },
    {
      "cell_type": "code",
      "metadata": {
        "colab": {
          "base_uri": "https://localhost:8080/"
        },
        "id": "TwEN2TeYLbkd",
        "outputId": "c2da8b2c-7f21-4bd1-c779-09d6aa941a72"
      },
      "source": [
        "#Question4:\n",
        "class Joker:\n",
        "    def __init__(self, name, power, is_he_psycho ):\n",
        "        self.name = name\n",
        "        self.power = power\n",
        "        self.is_he_psycho = is_he_psycho\n",
        "\n",
        "\n",
        "j1 = Joker('Heath Ledger', 'Mind Game', False)\n",
        "print(j1.name)\n",
        "print(j1.power)\n",
        "print(j1.is_he_psycho)\n",
        "print(\"=====================\")\n",
        "j2 = Joker('Joaquin Phoenix', 'Laughing out Loud', True)\n",
        "print(j2.name)\n",
        "print(j2.power)\n",
        "print(j2.is_he_psycho)\n",
        "print(\"=====================\")\n",
        "if j1 == j2:\n",
        "    print('same')\n",
        "else:\n",
        "    print('different')\n",
        "\n",
        "j2.name = 'Heath Ledger'\n",
        "if j1.name == j2.name:\n",
        "    print('same')\n",
        "else:\n",
        "    print('different')\n",
        "\n",
        "print(\"=====================\")\n",
        "print(\" Because j1 and j2 are objects. Their location are different. when we call j1 and j2 we actually call their location.\")\n",
        "print(\" Because j2 was updated at line 23 to Heath Ledger which is also the value stored under j1.name\")"
      ],
      "execution_count": null,
      "outputs": [
        {
          "output_type": "stream",
          "text": [
            "Heath Ledger\n",
            "Mind Game\n",
            "False\n",
            "=====================\n",
            "Joaquin Phoenix\n",
            "Laughing out Loud\n",
            "True\n",
            "=====================\n",
            "different\n",
            "same\n",
            "=====================\n",
            " Because j1 and j2 are objects. Their location are different. when we call j1 and j2 we actually call their location.\n",
            " Because j2 was updated at line 23 to Heath Ledger which is also the value stored under j1.name\n"
          ],
          "name": "stdout"
        }
      ]
    },
    {
      "cell_type": "code",
      "metadata": {
        "colab": {
          "base_uri": "https://localhost:8080/"
        },
        "id": "e5X2UbybLbke",
        "outputId": "912e7e5e-2835-4f4a-882b-6dd3aa8d68f3"
      },
      "source": [
        "#Question5\n",
        "class Pokemon:\n",
        "    def __init__(self, pokemon1_name, pokemon2_name , pokemon1_power, pokemon2_power, damage_rate):\n",
        "            self.pokemon1_name= pokemon1_name\n",
        "            self.pokemon2_name= pokemon2_name\n",
        "            self.pokemon1_power= pokemon1_power\n",
        "            self.pokemon2_power= pokemon2_power\n",
        "            self.damage_rate = damage_rate\n",
        "\n",
        "team_pika = Pokemon('pikachu', 'charmander', 90, 60, 10)\n",
        "print('=======Team 1=======')\n",
        "print('Pokemon 1:',team_pika.pokemon1_name,\n",
        "team_pika.pokemon1_power)\n",
        "print('Pokemon 2:',team_pika.pokemon2_name,\n",
        "team_pika.pokemon2_power)\n",
        "pika_combined_power = (team_pika.pokemon1_power +\n",
        "team_pika.pokemon2_power) * team_pika.damage_rate\n",
        "print('Combined Power:', pika_combined_power)\n",
        "\n",
        "\n",
        "team_bulb = Pokemon('bulbasaur', 'squirtle', 80, 70, 9)\n",
        "print('=======Team 2=======')\n",
        "print('Pokemon 1:',team_bulb.pokemon1_name,\n",
        "team_bulb.pokemon1_power)\n",
        "print('Pokemon 2:',team_bulb.pokemon2_name,\n",
        "team_bulb.pokemon2_power)\n",
        "bulb_combined_power = (team_bulb.pokemon1_power +\n",
        "team_bulb.pokemon2_power) * team_bulb.damage_rate\n",
        "print('Combined Power:', bulb_combined_power)"
      ],
      "execution_count": null,
      "outputs": [
        {
          "output_type": "stream",
          "text": [
            "=======Team 1=======\n",
            "Pokemon 1: pikachu 90\n",
            "Pokemon 2: charmander 60\n",
            "Combined Power: 1500\n",
            "=======Team 2=======\n",
            "Pokemon 1: bulbasaur 80\n",
            "Pokemon 2: squirtle 70\n",
            "Combined Power: 1350\n"
          ],
          "name": "stdout"
        }
      ]
    },
    {
      "cell_type": "code",
      "metadata": {
        "colab": {
          "base_uri": "https://localhost:8080/"
        },
        "id": "UE_eiumtLbkf",
        "outputId": "e7b5ab96-c53e-4597-d5fa-0ecb78b972fb"
      },
      "source": [
        "#Question6:\n",
        "class Player:\n",
        "    def __init__(self):\n",
        "        self.name = ''\n",
        "        self.jersy_number = 0\n",
        "        self.position = ''\n",
        "\n",
        "\n",
        "player1 = Player()\n",
        "player1.name = \"Ronaldo\"\n",
        "player1.jersy_number = 9\n",
        "player1.position = \"Striker\"\n",
        "print(\"Name of the Player:\", player1.name)\n",
        "print(\"Jersey Number of player:\", player1.jersy_number)\n",
        "print(\"Position of player:\", player1.position)\n",
        "print(\"===========================\")\n",
        "player2 = Player()\n",
        "player2.name = \"Neuer\"\n",
        "player2.jersy_number = 1\n",
        "player2.position = \"Goal Keeper\"\n",
        "print(\"Name of the player:\", player2.name)\n",
        "print(\"Jersey Number of player:\", player2.jersy_number)\n",
        "print(\"Position of player:\", player2.position)"
      ],
      "execution_count": 4,
      "outputs": [
        {
          "output_type": "stream",
          "name": "stdout",
          "text": [
            "Name of the Player: Ronaldo\n",
            "Jersey Number of player: 9\n",
            "Position of player: Striker\n",
            "===========================\n",
            "Name of the player: Neuer\n",
            "Jersey Number of player: 1\n",
            "Position of player: Goal Keeper\n"
          ]
        }
      ]
    },
    {
      "cell_type": "code",
      "metadata": {
        "colab": {
          "base_uri": "https://localhost:8080/"
        },
        "id": "I2xchU5KLbkf",
        "outputId": "56196da7-916d-4b27-c48a-7f7de744fb5d"
      },
      "source": [
        "#Question7:\n",
        "class Country:\n",
        "    def __init__(self):\n",
        "        \n",
        "        self.name = 'Bangladesh'\n",
        "        self.continent = 'Asia'\n",
        "        self.capital  = 'Dhaka'\n",
        "        self.fifa_ranking = 187\n",
        "        \n",
        "country = Country()\n",
        "print('Name:',country.name)\n",
        "print('Continent:',country.continent)\n",
        "print('Capital:',country.capital)\n",
        "print('Fifa Ranking:',country.fifa_ranking)\n",
        "print('===================')\n",
        "country.name = \"Belgium\"\n",
        "country.continent = \"Europe\"\n",
        "country.capital = \"Brussels\"\n",
        "country.fifa_ranking = 1\n",
        "print('Name:',country.name)\n",
        "print('Continent:',country.continent)\n",
        "print('Capital:',country.capital)\n",
        "print('Fifa Ranking:',country.fifa_ranking)"
      ],
      "execution_count": 5,
      "outputs": [
        {
          "output_type": "stream",
          "name": "stdout",
          "text": [
            "Name: Bangladesh\n",
            "Continent: Asia\n",
            "Capital: Dhaka\n",
            "Fifa Ranking: 187\n",
            "===================\n",
            "Name: Belgium\n",
            "Continent: Europe\n",
            "Capital: Brussels\n",
            "Fifa Ranking: 1\n"
          ]
        }
      ]
    },
    {
      "cell_type": "code",
      "metadata": {
        "id": "AWJTfGWILbkg",
        "outputId": "cfdac6c8-a181-4aa9-d540-2da5bf8753be"
      },
      "source": [
        "#Question8:\n",
        "class DemonSlayer:\n",
        "    def __init__(self, name = '', style = '', number_of_technique = 0, kill = 0):\n",
        "        self.name = name\n",
        "        self.style =style\n",
        "        self.number_of_technique = number_of_technique\n",
        "        self.kill = kill\n",
        "\n",
        "\n",
        "\n",
        "\n",
        "tanjiro = DemonSlayer(\"Tanjiro\", \"Water Breathing\", 10, 10)\n",
        "print('Name:',tanjiro.name)\n",
        "print('Fighting Style:',tanjiro.style)\n",
        "print(f'Knows {tanjiro.number_of_technique} technique(s) and has killed {tanjiro.kill} demon(s)')\n",
        "print('===================')\n",
        "zenitsu = DemonSlayer(\"Zenitsu\", \"Thunder Breathing\", 1, 4)\n",
        "print('Name:',zenitsu.name)\n",
        "print('Fighting Style:',zenitsu.style)\n",
        "print(f'Knows {zenitsu.number_of_technique} technique(s) and has killed {zenitsu.kill} demon(s)')\n",
        "print('===================')\n",
        "inosuke = DemonSlayer(\"Inosuke\", \"Beast Breathing\", 5, 7)\n",
        "print('Name:',inosuke.name)\n",
        "print('Fighting Style:',inosuke.style)\n",
        "print(f'Knows {inosuke.number_of_technique} technique(s) and has killed {inosuke.kill} demon(s)')\n",
        "print('===================')\n",
        "\n",
        "print(f'{tanjiro.name}, {zenitsu.name}, {inosuke.name} knows total {tanjiro.number_of_technique + zenitsu.number_of_technique + inosuke.number_of_technique} techniques')\n",
        "print(f'They have killed total {tanjiro.kill + zenitsu.kill + inosuke.kill} demons')"
      ],
      "execution_count": null,
      "outputs": [
        {
          "output_type": "stream",
          "text": [
            "Name: Tanjiro\n",
            "Fighting Style: Water Breathing\n",
            "Knows 10 technique(s) and has killed 10 demon(s)\n",
            "===================\n",
            "Name: Zenitsu\n",
            "Fighting Style: Thunder Breathing\n",
            "Knows 1 technique(s) and has killed 4 demon(s)\n",
            "===================\n",
            "Name: Inosuke\n",
            "Fighting Style: Beast Breathing\n",
            "Knows 5 technique(s) and has killed 7 demon(s)\n",
            "===================\n",
            "Tanjiro, Zenitsu, Inosuke knows total 16 techniques\n",
            "They have killed total 21 demons\n"
          ],
          "name": "stdout"
        }
      ]
    },
    {
      "cell_type": "code",
      "metadata": {
        "id": "ODQ1eWpzLbkh",
        "colab": {
          "base_uri": "https://localhost:8080/"
        },
        "outputId": "11059a2b-c8bd-4b10-9027-83c3e936f4bd"
      },
      "source": [
        "#Question9\n",
        "class box: \n",
        "  def __init__(self, inp):\n",
        "    self.height=inp[0]\n",
        "    self.width=inp[1]\n",
        "    self.breadth=inp[2]\n",
        "    print(\"Creating a Box!\")\n",
        "    print(\"Volume of the box is\", self.height*self.width*self.breadth,\"cubic units.\")\n",
        "\n",
        "\n",
        "\n",
        "print(\"Box 1\") \n",
        "b1 = box([10,10,10]) \n",
        "print(\"=========================\") \n",
        "print(\"Height:\", b1.height) \n",
        "print(\"Width:\", b1.width) \n",
        "print(\"Breadth:\", b1.breadth) \n",
        "print(\"-------------------------\") \n",
        "print(\"Box 2\") \n",
        "b2 = box((30,10,10)) \n",
        "print(\"=========================\") \n",
        "print(\"Height:\", b2.height) \n",
        "print(\"Width:\", b2.width) \n",
        "print(\"Breadth:\", b2.breadth) \n",
        "b2.height = 300 \n",
        "print(\"Updating Box 2!\") \n",
        "print(\"Height:\", b2.height) \n",
        "print(\"Width:\", b2.width) \n",
        "print(\"Breadth:\", b2.breadth) \n",
        "print(\"-------------------------\") \n",
        "print(\"Box 3\") \n",
        "b3 = b2 \n",
        "print(\"Height:\", b3.height) \n",
        "print(\"Width:\", b3.width) \n",
        "print(\"Breadth:\", b3.breadth)"
      ],
      "execution_count": 10,
      "outputs": [
        {
          "output_type": "stream",
          "name": "stdout",
          "text": [
            "Box 1\n",
            "Creating a Box!\n",
            "Volume of the box is 1000 cubic units.\n",
            "=========================\n",
            "Height: 10\n",
            "Width: 10\n",
            "Breadth: 10\n",
            "-------------------------\n",
            "Box 2\n",
            "Creating a Box!\n",
            "Volume of the box is 3000 cubic units.\n",
            "=========================\n",
            "Height: 30\n",
            "Width: 10\n",
            "Breadth: 10\n",
            "Updating Box 2!\n",
            "Height: 300\n",
            "Width: 10\n",
            "Breadth: 10\n",
            "-------------------------\n",
            "Box 3\n",
            "Height: 300\n",
            "Width: 10\n",
            "Breadth: 10\n"
          ]
        }
      ]
    },
    {
      "cell_type": "code",
      "metadata": {
        "colab": {
          "base_uri": "https://localhost:8080/"
        },
        "id": "oVj7O4_JhT8f",
        "outputId": "42e86012-7eac-417e-d98e-e2227cf0a65c"
      },
      "source": [
        "#Question10\n",
        "class buttons:\n",
        "  def __init__(self, word, spaces, border):\n",
        "    self.word=word\n",
        "    self.spaces=spaces\n",
        "    self.border=border\n",
        "\n",
        "    border_no=1+spaces+len(word)+spaces+1\n",
        "    print(word, \"Button Specifications:\")\n",
        "    print(\"Button name:\",word)\n",
        "    print(\"Number of the border characters for the top and the bottom:\", border_no)\n",
        "    print(\"Number of spaces between the left side border and the first character of the button name:\",spaces)\n",
        "    print(\"Number of spaces between the right side border and the last character of the button name:\",spaces)\n",
        "    print(\"Characters representing the borders:\",border)\n",
        "    print()\n",
        "    for i in range(border_no):#top border\n",
        "      print(border,end='')\n",
        "    print()\n",
        "    print(border,end='')\n",
        "    for j in range(spaces):\n",
        "      print(\" \",end='')\n",
        "    print(word,end='') \n",
        "    for k in range(spaces):\n",
        "      print(\" \",end='') \n",
        "    print(border,end='')\n",
        "    print()\n",
        "    for i in range(border_no):#bottom border\n",
        "      print(border,end='')\n",
        "    print()    \n",
        "\n",
        "\n",
        "\n",
        "\n",
        "\n",
        "\n",
        "\n",
        "word = \"CANCEL\"\n",
        "spaces = 10\n",
        "border = 'x'\n",
        "b1 = buttons(word, spaces, border) \n",
        "print(\"=======================================================\")\n",
        "b2 = buttons(\"Notify\",3, '!') \n",
        "print(\"=======================================================\")\n",
        "b3 = buttons('SAVE PROGRESS', 5, '$')"
      ],
      "execution_count": 12,
      "outputs": [
        {
          "output_type": "stream",
          "name": "stdout",
          "text": [
            "CANCEL Button Specifications:\n",
            "Button name: CANCEL\n",
            "Number of the border characters for the top and the bottom: 28\n",
            "Number of spaces between the left side border and the first character of the button name: 10\n",
            "Number of spaces between the right side border and the last character of the button name: 10\n",
            "Characters representing the borders: x\n",
            "\n",
            "xxxxxxxxxxxxxxxxxxxxxxxxxxxx\n",
            "x          CANCEL          x\n",
            "xxxxxxxxxxxxxxxxxxxxxxxxxxxx\n",
            "=======================================================\n",
            "Notify Button Specifications:\n",
            "Button name: Notify\n",
            "Number of the border characters for the top and the bottom: 14\n",
            "Number of spaces between the left side border and the first character of the button name: 3\n",
            "Number of spaces between the right side border and the last character of the button name: 3\n",
            "Characters representing the borders: !\n",
            "\n",
            "!!!!!!!!!!!!!!\n",
            "!   Notify   !\n",
            "!!!!!!!!!!!!!!\n",
            "=======================================================\n",
            "SAVE PROGRESS Button Specifications:\n",
            "Button name: SAVE PROGRESS\n",
            "Number of the border characters for the top and the bottom: 25\n",
            "Number of spaces between the left side border and the first character of the button name: 5\n",
            "Number of spaces between the right side border and the last character of the button name: 5\n",
            "Characters representing the borders: $\n",
            "\n",
            "$$$$$$$$$$$$$$$$$$$$$$$$$\n",
            "$     SAVE PROGRESS     $\n",
            "$$$$$$$$$$$$$$$$$$$$$$$$$\n"
          ]
        }
      ]
    }
  ]
}