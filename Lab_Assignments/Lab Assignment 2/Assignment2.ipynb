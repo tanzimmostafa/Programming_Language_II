{
  "nbformat": 4,
  "nbformat_minor": 0,
  "metadata": {
    "kernelspec": {
      "display_name": "Python 3",
      "language": "python",
      "name": "python3"
    },
    "language_info": {
      "codemirror_mode": {
        "name": "ipython",
        "version": 3
      },
      "file_extension": ".py",
      "mimetype": "text/x-python",
      "name": "python",
      "nbconvert_exporter": "python",
      "pygments_lexer": "ipython3",
      "version": "3.7.6"
    },
    "colab": {
      "name": "Assignment02_20301014_SadiaAfrin.ipynb",
      "provenance": [],
      "collapsed_sections": []
    }
  },
  "cells": [
    {
      "cell_type": "code",
      "metadata": {
        "id": "WGkBZxhKHOV8",
        "outputId": "57d7ab0d-1cfa-4b64-a82c-9e14950bceef"
      },
      "source": [
        "# Task 1\n",
        "def my_func(a,b):\n",
        "    try:\n",
        "        a = float(input(\"Enter the numerator: \"))\n",
        "        b = float(input(\"Enter the denominator: \"))\n",
        "        result = 0\n",
        "        if ( a == 0 or b == 0 ):\n",
        "            return result\n",
        "        else:\n",
        "            var1 = a/b\n",
        "            var2 = a//b\n",
        "            result = var1 - var2\n",
        "            if result >= 0 and result < 1:\n",
        "                  return result\n",
        "            else:\n",
        "                  print(\"Out of range\")\n",
        "    except ValueError:\n",
        "          print(\"Please enter numeric input\")\n",
        "    except Exception:\n",
        "          print(\"Some exception occurred\")\n",
        "                \n",
        "my_func('a','b')"
      ],
      "execution_count": null,
      "outputs": [
        {
          "output_type": "stream",
          "text": [
            "Enter the numerator: 5\n",
            "Enter the denominator: 2\n"
          ],
          "name": "stdout"
        },
        {
          "output_type": "execute_result",
          "data": {
            "text/plain": [
              "0.5"
            ]
          },
          "metadata": {
            "tags": []
          },
          "execution_count": 1
        }
      ]
    },
    {
      "cell_type": "code",
      "metadata": {
        "id": "ZiVdpLGcHOWB",
        "outputId": "1a77a766-221c-4e6b-f6c9-0624f5624579"
      },
      "source": [
        "# Task 2\n",
        "def bmi(height, weight):\n",
        "    height = float(input(\"Enter your height in cm: \"))\n",
        "    weight = float(input(\"Enter your weight in kg: \"))\n",
        "    new_height = height * 0.01\n",
        "    result = weight / (new_height*new_height)\n",
        "    result = round(result, 1)\n",
        "    if result < 18.5:\n",
        "        print(\"Score is \", result, \". \" \"You are Underweight.\")\n",
        "    elif result >= 18.5 and result <= 24.9:\n",
        "        print(\"Score is \", result, \". \" \"You are Normal.\")\n",
        "    elif result >= 25 and result <= 30:\n",
        "        print(\"Score is \", result, \". \" \"You are Overweight.\")\n",
        "    elif result > 30:\n",
        "        print(\"Score is \", result, \". \" \"You are Obese.\")\n",
        "    else:\n",
        "        print(\"Something went wrong\")\n",
        "bmi('height', 'weight')"
      ],
      "execution_count": null,
      "outputs": [
        {
          "output_type": "stream",
          "text": [
            "Enter your height in cm: 152\n",
            "Enter your weight in kg: 48\n",
            "Score is  20.8 . You are Normal.\n"
          ],
          "name": "stdout"
        }
      ]
    },
    {
      "cell_type": "code",
      "metadata": {
        "id": "ESrAD2laHOWC",
        "outputId": "81757574-6476-45c1-de22-fa2cc718e8fc"
      },
      "source": [
        "# Task 3\n",
        "def test(min_num,max_num,div):\n",
        "    min_num = int(input(\"Enter minimum number: \"))\n",
        "    max_num = int(input(\"Enter maximum number: \"))\n",
        "    div = int(input(\"Enter divisor number: \"))\n",
        "    total = 0\n",
        "    for i in range(min_num,max_num):\n",
        "        if i % div == 0:\n",
        "            total += i\n",
        "    return total\n",
        "test('min_num','max_num','div')"
      ],
      "execution_count": null,
      "outputs": [
        {
          "output_type": "stream",
          "text": [
            "Enter minimum number: 3\n",
            "Enter maximum number: 16\n",
            "Enter divisor number: 3\n"
          ],
          "name": "stdout"
        },
        {
          "output_type": "execute_result",
          "data": {
            "text/plain": [
              "45"
            ]
          },
          "metadata": {
            "tags": []
          },
          "execution_count": 3
        }
      ]
    },
    {
      "cell_type": "code",
      "metadata": {
        "colab": {
          "base_uri": "https://localhost:8080/"
        },
        "id": "8BVNuFK9HOWD",
        "outputId": "0d8affbf-712b-4d3c-9f7c-4155eefea3b2"
      },
      "source": [
        "# Task 4\n",
        "def food(meal, loc = \"mohakhali\"):\n",
        "    meals = meal.lower()\n",
        "    location = loc.lower()\n",
        "    bill = 0\n",
        "    if meals == \"bbq chicken cheese burger\":\n",
        "        bill += 250\n",
        "    if meals == \"beef burger\":\n",
        "        bill += 170\n",
        "    if meals == \"naga drums\":\n",
        "        bill += 200\n",
        "\n",
        "    tax = (bill*8)/100\n",
        "    \n",
        "    deli = 0\n",
        "    if location == \"mohakhali\" or location == \"\":\n",
        "        deli += 40\n",
        "    elif location != \"mohakhali\":\n",
        "        deli += 60\n",
        "    \n",
        "    total = bill + tax + deli\n",
        "    print(total)\n",
        "\n",
        "meal = input(\"Enter the name of the food item: \")\n",
        "loc = input(\"Enter your location: \")  \n",
        "\n",
        "food(meal,loc)# if nothing given as input for loc, mmohakhali is passed as default"
      ],
      "execution_count": 2,
      "outputs": [
        {
          "output_type": "stream",
          "text": [
            "Enter the name of the food item: beef burger\n",
            "Enter your location: dhanmondi\n",
            "243.6\n"
          ],
          "name": "stdout"
        }
      ]
    },
    {
      "cell_type": "code",
      "metadata": {
        "id": "PtHUpUMcHOWE",
        "outputId": "88a7d860-69db-40bc-c565-289e7ab7f07d"
      },
      "source": [
        "# Task 5\n",
        "def replace_domain(email, new_domain, old_domain = \"kaaj.com\"):\n",
        "    email = input(\"Enter the email address here: \")\n",
        "    new_domain = input(\"Enter new domain: \")\n",
        "    old_domain = input(\"Enter old domain: \")\n",
        "    new = email.split(\"@\")\n",
        "    if new_domain not in email:\n",
        "        new_string = \"\"\n",
        "        new_string = new[0] + \"@\" + new_domain\n",
        "        print(new_string)\n",
        "    elif new_domain in email:\n",
        "        print(email)\n",
        "replace_domain('email', 'new_domain', 'old_domain')"
      ],
      "execution_count": null,
      "outputs": [
        {
          "output_type": "stream",
          "text": [
            "Enter the email address here: alice@kaaj.com\n",
            "Enter new domain: sheba.xyz\n",
            "Enter old domain: kaaj.com\n",
            "alice@sheba.xyz\n"
          ],
          "name": "stdout"
        }
      ]
    },
    {
      "cell_type": "code",
      "metadata": {
        "id": "O9aI3IeJHOWE",
        "outputId": "8ddc82a3-95e6-49a9-d80f-0406d384f071"
      },
      "source": [
        "# Task 6\n",
        "def vowel_count(string):\n",
        "    string=input(\"Enter your full name here: \")\n",
        "    lst = []\n",
        "    vowels=0\n",
        "    for i in string:\n",
        "          if(i=='a' or i=='e' or i=='i' or i=='o' or i=='u' or i=='A' or i=='E' or i=='I' or i=='O' or i=='U'):\n",
        "                lst.append(i)\n",
        "                vowels=vowels+1\n",
        "    if vowels != 0:\n",
        "        print(\"Vowels: \", tuple(lst), \".\", \"Total number of vowels: \", vowels)\n",
        "    else:\n",
        "        print(\"No vowels in the name!\")\n",
        "vowel_count('string')"
      ],
      "execution_count": null,
      "outputs": [
        {
          "output_type": "stream",
          "text": [
            "Enter your full name here: Steve Jobs\n",
            "Vowels:  ('e', 'e', 'o') . Total number of vowels:  3\n"
          ],
          "name": "stdout"
        }
      ]
    },
    {
      "cell_type": "code",
      "metadata": {
        "id": "J03UmXRYHOWF",
        "outputId": "2e4bfe73-980e-4952-d30f-10d7978d711f"
      },
      "source": [
        "# Task 7\n",
        "def palindrome(string):\n",
        "    string = input(\"Enter the string: \")\n",
        "    new_string = string.replace(\" \", \"\")\n",
        "    if(new_string == new_string[::-1]):\n",
        "        print(\"Palindrome\")\n",
        "    else:\n",
        "        print(\"Not a palindrome\")\n",
        "palindrome('string')"
      ],
      "execution_count": null,
      "outputs": [
        {
          "output_type": "stream",
          "text": [
            "Enter the string: nurses run\n",
            "Palindrome\n"
          ],
          "name": "stdout"
        }
      ]
    },
    {
      "cell_type": "code",
      "metadata": {
        "id": "_CjT-PTVHOWF",
        "outputId": "711fbeae-4f06-4a22-b8dd-01b7a741a93a"
      },
      "source": [
        "# Task 8\n",
        "def my_func(day):\n",
        "    day = int(input(\"Enter number of days: \"))\n",
        "    year = day // 365\n",
        "    month = (day % 365) // 30\n",
        "    days = (day % 365) % 30\n",
        "    print(year,\" years, \", month, \" months and \", days, \" days.\")\n",
        "my_func('day')"
      ],
      "execution_count": null,
      "outputs": [
        {
          "output_type": "stream",
          "text": [
            "Enter number of days: 4320\n",
            "11  years,  10  months and  5  days.\n"
          ],
          "name": "stdout"
        }
      ]
    },
    {
      "cell_type": "code",
      "metadata": {
        "id": "3Je8FbaeHOWG",
        "outputId": "cdf28997-8234-4fc3-861d-01d7876f0278"
      },
      "source": [
        "# Task 9\n",
        "def my_func(string):\n",
        "    string = input(\"Enter your string: \")\n",
        "    capital = string[0].upper()\n",
        "    i = 1\n",
        "    while i < len(string):\n",
        "        if (string[i] == \".\" and i != len(string)-1):\n",
        "            capital += \". \" + string[i+2].upper()\n",
        "            i += 3\n",
        "        elif (string[i] == \"?\" and i != len(string)-1):\n",
        "            capital += \"? \" + string[i+2].upper()\n",
        "            i += 3\n",
        "        elif (string[i] == \"!\" and i != len(string)-1):\n",
        "            capital += \"! \" + string[i+2].upper()\n",
        "            i += 3\n",
        "        elif string[i] == \"i\" and string[i-1] == \" \" and string[i+1] == \" \":\n",
        "            capital += \"I\"\n",
        "            i += 1\n",
        "        else:\n",
        "            capital += string[i]\n",
        "            i += 1\n",
        "    return capital\n",
        "print(my_func('string'))"
      ],
      "execution_count": null,
      "outputs": [
        {
          "output_type": "stream",
          "text": [
            "Enter your string: my favourite animal is a dog. a dog has sharp teeth so that it can eat flesh very easily. do you know my pet dog’s name? i love my pet very much.\n",
            "My favourite animal is a dog. A dog has sharp teeth so that it can eat flesh very easily. Do you know my pet dog’s name? I love my pet very much.\n"
          ],
          "name": "stdout"
        }
      ]
    }
  ]
}