{
  "nbformat": 4,
  "nbformat_minor": 0,
  "metadata": {
    "colab": {
      "name": "Assignment01_Tanzim.ipynb",
      "provenance": [],
      "collapsed_sections": []
    },
    "kernelspec": {
      "name": "python3",
      "display_name": "Python 3"
    },
    "language_info": {
      "name": "python"
    }
  },
  "cells": [
    {
      "cell_type": "markdown",
      "metadata": {
        "id": "PPakAR-UCRAB"
      },
      "source": [
        "STRING"
      ]
    },
    {
      "cell_type": "code",
      "metadata": {
        "colab": {
          "base_uri": "https://localhost:8080/"
        },
        "id": "uTm2LsKucaga",
        "outputId": "289e03d7-96c3-4d11-8785-5b1b68372b56"
      },
      "source": [
        "#Task1\n",
        "string=input(\"enter string: \")\n",
        "upper_count=0\n",
        "lower_count=0\n",
        "for i in string:\n",
        "  if i.isupper()==True:\n",
        "    upper_count+=1\n",
        "  else:\n",
        "    lower_count+=1  \n",
        "if upper_count>lower_count:\n",
        "  print(string.upper())\n",
        "else:\n",
        "  print(string.lower())      \n"
      ],
      "execution_count": null,
      "outputs": [
        {
          "output_type": "stream",
          "text": [
            "enter string: HOusE\n",
            "HOUSE\n"
          ],
          "name": "stdout"
        }
      ]
    },
    {
      "cell_type": "code",
      "metadata": {
        "colab": {
          "base_uri": "https://localhost:8080/"
        },
        "id": "kGBoXcEZkBZF",
        "outputId": "3ff4fd94-09b7-44d7-bb76-eecf972d0861"
      },
      "source": [
        "#Task2\n",
        "num=['1','2','3','4','5','6','7','8','9']\n",
        "\n",
        "def letterOrNumber(input):\n",
        "    numFlag=False\n",
        "    letterFlag=False\n",
        "    charFlag=False\n",
        "    for i in input:\n",
        "        if i in num:\n",
        "            numFlag=True\n",
        "        elif (ord(i)>=65 and ord(i)<=90) or (ord(i)>=97 and ord(i)<=122):\n",
        "            letterFlag=True\n",
        "        elif ord(i)>=32 and ord(i)<=47:\n",
        "            charFlag=True\n",
        "            \n",
        "            \n",
        "    if numFlag==True and letterFlag==False and charFlag==False: \n",
        "        print('NUMBER')\n",
        "    elif numFlag==False and letterFlag==True and charFlag==False:\n",
        "        print('WORD')\n",
        "    elif (numFlag==True and letterFlag==True) or charFlag==True:\n",
        "        print(\"MIXED\")\n",
        "        \n",
        "        \n",
        "letterOrNumber('213213')\n",
        "letterOrNumber('jhg231j213')\n",
        "letterOrNumber('HEllo') \n",
        "letterOrNumber(' ')\n",
        "letterOrNumber('a1/')      \n",
        "             "
      ],
      "execution_count": null,
      "outputs": [
        {
          "output_type": "stream",
          "text": [
            "NUMBER\n",
            "MIXED\n",
            "WORD\n",
            "MIXED\n",
            "MIXED\n"
          ],
          "name": "stdout"
        }
      ]
    },
    {
      "cell_type": "code",
      "metadata": {
        "colab": {
          "base_uri": "https://localhost:8080/"
        },
        "id": "GGqZCSQZlAgQ",
        "outputId": "70414986-154b-496c-e29c-2a41442e9714"
      },
      "source": [
        "#Task3\n",
        "string=input(\"Enter string: \")\n",
        "result=\"\"\n",
        "i=0\n",
        "flag=False#to check whether second capital letter has been found\n",
        "\n",
        "while i < len(string):\n",
        "  if string[i].isupper()==True:\n",
        "    j=i+1\n",
        "    while j<len(string):\n",
        "      if string[j].isupper()==True:\n",
        "        flag=True\n",
        "        break\n",
        "      else:\n",
        "        result+=string[j]\n",
        "        j=j+1\n",
        "  \n",
        "  if flag==True:\n",
        "    break\n",
        "\n",
        "  i=i+1\n",
        "\n",
        "\n",
        "\n",
        "if result==\"\":\n",
        "  print(\"BLANK\")\n",
        "else:\n",
        "  print(result)      \n"
      ],
      "execution_count": null,
      "outputs": [
        {
          "output_type": "stream",
          "text": [
            "Enter string: coDIng\n",
            "BLANK\n"
          ],
          "name": "stdout"
        }
      ]
    },
    {
      "cell_type": "code",
      "metadata": {
        "id": "yRdWG4TMIGi1"
      },
      "source": [
        "#Task3 Another way\n",
        "str3= input()\n",
        "var = ''\n",
        "upper = False\n",
        "for i in str3:\n",
        "    if i.isupper() and upper==False:\n",
        "        upper= True\n",
        "        continue\n",
        "    \n",
        "    if upper==True:\n",
        "        if i.isupper()==True:\n",
        "            break\n",
        "        else:\n",
        "            var+= i\n",
        "    \n",
        "    \n",
        "if var=='':\n",
        "    print(\"BLANK\")\n",
        "else:\n",
        "    print(var)    "
      ],
      "execution_count": null,
      "outputs": []
    },
    {
      "cell_type": "code",
      "metadata": {
        "colab": {
          "base_uri": "https://localhost:8080/"
        },
        "id": "0zMHAxXLr9wx",
        "outputId": "f44096ed-9b61-4127-a8f2-09e78bca3e07"
      },
      "source": [
        "#Task4\n",
        "def too_good(str1):\n",
        "  index_too = str1.find('too')#.find finds first occurrence of string\n",
        "  index_good = str1.find('good')#.find returns -1 if string not found\n",
        "  \n",
        "\n",
        "  if index_good > index_too and index_too>0 and index_good>0:\n",
        "    str1 = str1.replace(str1[index_too:(index_good+4)], 'excellent')\n",
        "    return str1\n",
        "  else:\n",
        "    return str1\n",
        "print(too_good('The book is not excellent!'))\n",
        "print(too_good('This book is good too!'))"
      ],
      "execution_count": null,
      "outputs": [
        {
          "output_type": "stream",
          "text": [
            "The book is not excellent!\n",
            "This book is good too!\n"
          ],
          "name": "stdout"
        }
      ]
    },
    {
      "cell_type": "code",
      "metadata": {
        "colab": {
          "base_uri": "https://localhost:8080/"
        },
        "id": "dvip77gk8SWa",
        "outputId": "bfb606c4-50ae-4320-ebec-0ea6c61f1057"
      },
      "source": [
        "#Task5\n",
        "str1=input(\"Enter first string: \")\n",
        "str2=input(\"Enter second string: \")\n",
        "result=''\n",
        "\n",
        "for i in str1:\n",
        "  if i in str2:\n",
        "    result+=i\n",
        "for j in str2:\n",
        "  if j in str1:\n",
        "    result+=j\n",
        "if result=='':\n",
        "  print(\"Nothing in common\")\n",
        "else:\n",
        "  print(result)      "
      ],
      "execution_count": null,
      "outputs": [
        {
          "output_type": "stream",
          "text": [
            "Enter first string: dean\n",
            "Enter second string: tom\n",
            "Nothing in common\n"
          ],
          "name": "stdout"
        }
      ]
    },
    {
      "cell_type": "code",
      "metadata": {
        "colab": {
          "base_uri": "https://localhost:8080/"
        },
        "id": "vshutSvy9GG8",
        "outputId": "14b02264-ba8d-43ba-f96f-7df0153e7b41"
      },
      "source": [
        "#task6\n",
        "password=input(\"Enter password: \")\n",
        "digits=['1','2','3','4','5','6','7','8','9']\n",
        "sp_chars=['_','$','#','@']\n",
        "\n",
        "flag1=False#False means doesn't fulfill that condition\n",
        "flag2=False\n",
        "flag3=False\n",
        "flag4=False\n",
        "\n",
        "for i in password:\n",
        "  if ord(i)>=97 and ord(i)<=122:\n",
        "    flag1=True\n",
        "  if ord(i)>=65 and ord(i)<=90:\n",
        "    flag2=True\n",
        "  if i in digits:\n",
        "    flag3=True\n",
        "  if i in sp_chars:\n",
        "    flag4=True     \n",
        "\n",
        "if flag1==True and flag2==True and flag3==True and flag4==True:\n",
        "  print('OK')\n",
        "if flag1==False:\n",
        "  print('Lowercase character missing,', end=' ')\n",
        "if flag2==False:\n",
        "  print('Uppercase character missing,', end=' ') \n",
        "if flag3==False:\n",
        "  print('Digit missing,', end=' ')   \n",
        "if flag4==False:\n",
        "  print('Special character missing ', end=' ')        "
      ],
      "execution_count": null,
      "outputs": [
        {
          "output_type": "stream",
          "name": "stdout",
          "text": [
            "Enter password: ohmybracu\n",
            "Uppercase character missing, Digit missing, Special character missing  "
          ]
        }
      ]
    },
    {
      "cell_type": "markdown",
      "metadata": {
        "id": "CNEhnnOCCW54"
      },
      "source": [
        "LIST"
      ]
    },
    {
      "cell_type": "code",
      "metadata": {
        "colab": {
          "base_uri": "https://localhost:8080/"
        },
        "id": "Y-Z-9NH1-C4m",
        "outputId": "aea1e173-cfb8-44f9-9e21-05512ede2860"
      },
      "source": [
        "#task1\n",
        "num_list=[]#contains all the numbers\n",
        "while True:\n",
        "  string=input()\n",
        "  if string==\"STOP\":\n",
        "    break\n",
        "  else:\n",
        "    number=int(string)\n",
        "    num_list.append(number)\n",
        "\n",
        "num_list2=[]\n",
        "for num in num_list:\n",
        "  if num not in num_list2:\n",
        "    frequency=num_list.count(num)#cointing no. of times num in num_list\n",
        "    num_list2.append(num)\n",
        "    print(num,'-',frequency,'times')\n"
      ],
      "execution_count": null,
      "outputs": [
        {
          "output_type": "stream",
          "text": [
            "10\n",
            "20\n",
            "20\n",
            "30\n",
            "10\n",
            "50\n",
            "90\n",
            "STOP\n",
            "10 - 2 times\n",
            "20 - 2 times\n",
            "30 - 1 times\n",
            "50 - 1 times\n",
            "90 - 1 times\n"
          ],
          "name": "stdout"
        }
      ]
    },
    {
      "cell_type": "code",
      "metadata": {
        "colab": {
          "base_uri": "https://localhost:8080/"
        },
        "id": "9hFz0yZyHbi3",
        "outputId": "0586f3b2-9344-427e-e415-e92fcbd5a41b"
      },
      "source": [
        "#task2\n",
        "num=int(input(\"Enter number of lists: \"))\n",
        "greatest=0\n",
        "num_list=[]\n",
        "final_list=[]\n",
        "for i in range(num):\n",
        "  string=input(\"Enter the list: \")\n",
        "  string_list=string.split(' ')#splitting based on whote space into a list\n",
        "  \n",
        "  for j in string_list:\n",
        "    num_list.append(int(j))#turning elements in string list into number \n",
        "\n",
        "  total=sum(num_list)\n",
        "  if total>greatest:\n",
        "    greatest=total\n",
        "    final_list=num_list\n",
        "\n",
        "  num_list=[]#making the num_list empty again for next iteration\n",
        "\n",
        "print(greatest)\n",
        "print(final_list)\n",
        "\n",
        "\n"
      ],
      "execution_count": null,
      "outputs": [
        {
          "output_type": "stream",
          "text": [
            "Enter number of lists: 4\n",
            "Enter the list: 1 2 3\n",
            "Enter the list: 4 5 6\n",
            "Enter the list: 10 11 12\n",
            "Enter the list: 7 8 9\n",
            "33\n",
            "[10, 11, 12]\n"
          ],
          "name": "stdout"
        }
      ]
    },
    {
      "cell_type": "code",
      "metadata": {
        "colab": {
          "base_uri": "https://localhost:8080/"
        },
        "id": "GjQ0ArdjS5Su",
        "outputId": "85e7dc9b-3002-47bb-8388-bf7513858347"
      },
      "source": [
        "#Task3\n",
        "num_list1=[]\n",
        "string1=input(\"Enter the list: \")\n",
        "string_list=string1.split(' ')\n",
        "\n",
        "for i in string_list:\n",
        "  num_list1.append(int(i))\n",
        "\n",
        "num_list2=[]\n",
        "string2=input(\"Enter the list: \")\n",
        "string_list=string2.split(' ')\n",
        "\n",
        "for i in string_list:\n",
        "  num_list2.append(int(i))\n",
        "\n",
        "#now we have both the lists\n",
        "final_list=[]\n",
        "for i in num_list1:\n",
        "  for j in num_list2:\n",
        "    final_list.append(i*j)\n",
        "\n",
        "#print(num_list1)\n",
        "#print(num_list2)\n",
        "print(final_list)\n",
        "\n"
      ],
      "execution_count": null,
      "outputs": [
        {
          "output_type": "stream",
          "text": [
            "Enter the list: 1 2 3\n",
            "Enter the list: 4 5 6 7\n",
            "[4, 5, 6, 7, 8, 10, 12, 14, 12, 15, 18, 21]\n"
          ],
          "name": "stdout"
        }
      ]
    },
    {
      "cell_type": "code",
      "metadata": {
        "colab": {
          "base_uri": "https://localhost:8080/"
        },
        "id": "HyI9UL-enW8X",
        "outputId": "e129ed93-fc89-4bc9-b3d9-980b004a55df"
      },
      "source": [
        "#Task4\n",
        "while True:\n",
        "  inp = input(\"Enter list: \")\n",
        "  if inp==\"STOP\":\n",
        "    break\n",
        "  else:  \n",
        "    string_list=inp.split(' ')\n",
        "    num_list=[]\n",
        "    for i in string_list:\n",
        "      num_list.append(int(i))\n",
        "    #list created\n",
        "\n",
        "    list2=[]\n",
        "    for j in range(0,len(num_list)-1):#so index does not get outside list when comparing\n",
        "      diff=abs(num_list[j]-num_list[j + 1])\n",
        "      list2.append(diff)\n",
        "      \n",
        "    list2.sort()\n",
        "    ans=1\n",
        "    flag=True\n",
        "    \n",
        "    for k in list2:\n",
        "        if k!=ans:\n",
        "            flag=False\n",
        "            break\n",
        "        ans+=1\n",
        "    \n",
        "    if flag==True:\n",
        "        print(\"UB Jumper\")\n",
        "    else:    \n",
        "        print(\"Not UB Jumper\")\n",
        "\n"
      ],
      "execution_count": null,
      "outputs": [
        {
          "name": "stdout",
          "output_type": "stream",
          "text": [
            "Enter list: 1 4 2 3\n",
            "UB Jumper\n",
            "Enter list: 1 4 2 -1 6\n",
            "Not UB Jumper\n",
            "Enter list: STOP\n"
          ]
        }
      ]
    },
    {
      "cell_type": "code",
      "metadata": {
        "colab": {
          "base_uri": "https://localhost:8080/"
        },
        "id": "7T6eqq3Jn29x",
        "outputId": "e27d675e-ff5f-4fd8-91fa-fd15cc139130"
      },
      "source": [
        "#Task5\n",
        "l,u,o,e=[],[],[],[] #define lower, upper, odd and even number lists.\n",
        "for i in sorted(input()): #split the characters so string looks like [s,t,r,i,n,g] in sorted order\n",
        "    if i.isalpha():#check if i is a letter\n",
        "      if i.isupper():#add x to upper list if it is an upper, if not, add it to l or the lower list. You can see `ternary operator` for more info.\n",
        "        u.append(i)\n",
        "      else:\n",
        "        l.append(i)   \n",
        "    else: #if it is not a letter\n",
        "      if int(i)%2==1:#if the integer is even add it to e, if it is odd, add it to odd.\n",
        "        o.append(i)\n",
        "      else:\n",
        "        e.append(i)  \n",
        "    \n",
        "result_list=l+u+o+e\n",
        "ans=\"\"\n",
        "for x in result_list:\n",
        "  ans+=x\n",
        "print(ans)\n",
        "\n",
        "\n"
      ],
      "execution_count": null,
      "outputs": [
        {
          "output_type": "stream",
          "text": [
            "Bracu1234\n",
            "acruB1324\n"
          ],
          "name": "stdout"
        }
      ]
    },
    {
      "cell_type": "code",
      "metadata": {
        "colab": {
          "base_uri": "https://localhost:8080/"
        },
        "id": "b7c1tWgzv0Gg",
        "outputId": "40150bc1-6ca3-465c-d6fb-c6c2d72463a5"
      },
      "source": [
        "#task6\n",
        "string=input()#number of students\n",
        "inp_list=string.split(' ')\n",
        "n, k= inp_list\n",
        "\n",
        "n=int(n)\n",
        "k=int(k)\n",
        "\n",
        "string2=input()\n",
        "string2_list=string2.split(' ')\n",
        "num_list=[]\n",
        "for i in string2_list:\n",
        "  num_list.append(int(i))\n",
        "\n",
        "#list created\n",
        "num_list.sort()# sorting the list inplace\n",
        "ans=0\n",
        "j=0\n",
        "while j < len(num_list):\n",
        "  if j+2< len(num_list):\n",
        "    if num_list[j]+k<=5 and num_list[j+1]+k<=5 and num_list[j+2]+k<=5:\n",
        "      ans+=1\n",
        "      j+=3\n",
        "    else:\n",
        "      break  \n",
        "  else:\n",
        "    break\n",
        "\n",
        "print(ans)\n"
      ],
      "execution_count": null,
      "outputs": [
        {
          "output_type": "stream",
          "name": "stdout",
          "text": [
            "5 2\n",
            "0 4 5 1 0\n",
            "1\n"
          ]
        }
      ]
    },
    {
      "cell_type": "code",
      "metadata": {
        "colab": {
          "base_uri": "https://localhost:8080/"
        },
        "id": "Mnp-K6j8J2Ai",
        "outputId": "e96cf336-9957-4e97-fd62-040a3e8ab2cc"
      },
      "source": [
        "#task6 another way\n",
        "string=input()#number of students\n",
        "inp_list=string.split(' ')\n",
        "n, k= inp_list\n",
        "\n",
        "n=int(n)\n",
        "k=int(k)\n",
        "\n",
        "string2=input()\n",
        "string2_list=string2.split(' ')\n",
        "num_list=[]\n",
        "for i in string2_list:\n",
        "  num_list.append(int(i))\n",
        "\n",
        "eligible_count=0\n",
        "for i in num_list:\\\n",
        "  temp=i+k\n",
        "  if temp<=5:\n",
        "    eligible_count+=1\n",
        "print(eligible_count//3)    \n"
      ],
      "execution_count": 3,
      "outputs": [
        {
          "output_type": "stream",
          "name": "stdout",
          "text": [
            "6 5\n",
            "0 0 0 0 0 0\n",
            "2\n"
          ]
        }
      ]
    },
    {
      "cell_type": "markdown",
      "metadata": {
        "id": "68cStuah52S_"
      },
      "source": [
        "DICTIONARY AND TUPLE"
      ]
    },
    {
      "cell_type": "code",
      "metadata": {
        "colab": {
          "base_uri": "https://localhost:8080/"
        },
        "id": "GCWKHp7R54yR",
        "outputId": "f9777aeb-4835-4ad5-c9fc-b43026e3b7c7"
      },
      "source": [
        "#turning input 'a: 100, b: 100, c: 200, d: 300' to dictionary\n",
        "# dic='a: 100, b: 100, c: 200, d: 300'\n",
        "\n",
        "# list1=dic.split(',')#splitting based on comma\n",
        "# print(list1)\n",
        "\n",
        "# for i in range(len(list1)):\n",
        "#     list1[i]=list1[i].strip()#removing spaces\n",
        "    \n",
        "# print(list1)    \n",
        "\n",
        "# dic={}\n",
        "# for j in range(len(list1)):\n",
        "#     temp=list1[j].split(': ')\n",
        "#     #print(temp)\n",
        "#     dic[temp[0]]=int(temp[1])\n",
        "    \n",
        "# print(dic)    \n",
        "\n",
        "\n",
        "#Task1\n",
        "\n",
        "# initializing two dictionaries\n",
        "dict1 = {'a': 100, 'b': 100, 'c': 200, 'd':300}\n",
        "dict2 = {'a': 300, 'b': 200, 'd': 400, 'e':200}\n",
        "  \n",
        "  \n",
        "# adding the values with common key\n",
        "for key in dict1:\n",
        "    if key in dict2:\n",
        "        dict1[key] = dict1[key] + dict2[key]\n",
        "    else:\n",
        "        pass\n",
        "#print(dict1)\n",
        "\n",
        "for i in dict2:\n",
        "  if i not in dict1:\n",
        "    dict1[i]=dict2[i]\n",
        "\n",
        "#first result/part finished    \n",
        "\n",
        "#for making tuple:\n",
        "new_list=[]\n",
        "for key,value in dict1.items():\n",
        "  if value not in new_list:\n",
        "    new_list.append(value)\n",
        "\n",
        "new_list.sort()\n",
        "result_tuple=tuple(new_list)\n",
        "          \n",
        "print(dict1)\n",
        "print(result_tuple)"
      ],
      "execution_count": null,
      "outputs": [
        {
          "output_type": "stream",
          "text": [
            "{'a': 400, 'b': 300, 'c': 200, 'd': 700, 'e': 200}\n",
            "(200, 300, 400, 700)\n"
          ],
          "name": "stdout"
        }
      ]
    },
    {
      "cell_type": "code",
      "metadata": {
        "colab": {
          "base_uri": "https://localhost:8080/"
        },
        "id": "9xHppGT1xOuM",
        "outputId": "c8eb66bc-532d-4e46-806d-aa2a343dae28"
      },
      "source": [
        "#Task2\n",
        "dict_1={}\n",
        "while True:\n",
        "  string=input(\"enter number or type STOP to end: \")\n",
        "  if string==\"STOP\":\n",
        "    break\n",
        "  number=int(string)\n",
        "  if number not in dict_1:\n",
        "    dict_1[number]=1\n",
        "  else:\n",
        "    dict_1[number]=dict_1[number]+1  \n",
        "\n",
        "for key,value in dict_1.items():\n",
        "  print(key,'-',value,'times')"
      ],
      "execution_count": null,
      "outputs": [
        {
          "output_type": "stream",
          "name": "stdout",
          "text": [
            "enter number or type STOP to end: 10\n",
            "enter number or type STOP to end: 20\n",
            "enter number or type STOP to end: 20\n",
            "enter number or type STOP to end: STOP\n",
            "10 - 1 times\n",
            "20 - 2 times\n"
          ]
        }
      ]
    },
    {
      "cell_type": "code",
      "metadata": {
        "id": "0SxUs7j78Avl",
        "colab": {
          "base_uri": "https://localhost:8080/"
        },
        "outputId": "eb3eb9c1-2d17-4825-8726-08feb9de4e9e"
      },
      "source": [
        "#Task3\n",
        "#https://www.guru99.com/python-dictionary-append.html\n",
        "\n",
        "#dict={'a':'1','b':'2','c':'1'}\n",
        "dict={'key1':'value1','key2':'value2','key3':'value1'}\n",
        "newDict ={}\n",
        "\n",
        "for key,value in dict.items():\n",
        "    if value in newDict:\n",
        "        newDict[value].append(key)\n",
        "    else:\n",
        "       newDict[value]= [key]\n",
        "       \n",
        "print(newDict)       "
      ],
      "execution_count": null,
      "outputs": [
        {
          "output_type": "stream",
          "name": "stdout",
          "text": [
            "{'value1': ['key1', 'key3'], 'value2': ['key2']}\n"
          ]
        }
      ]
    },
    {
      "cell_type": "code",
      "metadata": {
        "colab": {
          "base_uri": "https://localhost:8080/"
        },
        "id": "RBWEsMKuAuvy",
        "outputId": "ed6753dd-bc58-48f1-e9d6-3a69a27eb47d"
      },
      "source": [
        "#Task4\n",
        "str1= input('enter string: ')\n",
        "str2= input(\"enter string: \")\n",
        "\n",
        "for1 = dict()#dict for string 1\n",
        "for2= dict()#dict for string 2\n",
        "\n",
        "\n",
        "for i in str1:\n",
        "  if i not in for1:\n",
        "    for1[i]=1\n",
        "  else:\n",
        "    for1[i]=for1[i]+1\n",
        "print(for1)\n",
        "\n",
        "#hence we are getting dict for string1 \n",
        "#containing the letters and their corresponding frequency \n",
        "\n",
        "for i in str2:\n",
        "  if i not in for2:\n",
        "    for2[i]=1\n",
        "  else:\n",
        "    for2[i]=for2[i]+1\n",
        "    \n",
        "#hence we are getting dict for string2 \n",
        "#containing the letters and their corresponding frequency     \n",
        "\n",
        "print(for2)\n",
        "\n",
        "#if 2 strings are exactly same they are not anagrams\n",
        "#and if 2 dicts are same they are anagrams\n",
        "if str1!=str2 and for1==for2:\n",
        "    print('Those strings are anagrams')\n",
        "else:\n",
        "    print(\"Those strings are not anagrams\")\n",
        "    \n"
      ],
      "execution_count": null,
      "outputs": [
        {
          "output_type": "stream",
          "text": [
            "enter string: evil\n",
            "enter string: live\n",
            "{'e': 1, 'v': 1, 'i': 1, 'l': 1}\n",
            "{'l': 1, 'i': 1, 'v': 1, 'e': 1}\n",
            "Those strings are anagrams\n"
          ],
          "name": "stdout"
        }
      ]
    },
    {
      "cell_type": "code",
      "metadata": {
        "colab": {
          "base_uri": "https://localhost:8080/"
        },
        "id": "82EDCbsVqHxs",
        "outputId": "41dabb1e-9aa4-47da-86d6-79c13c6d50e8"
      },
      "source": [
        "#Task5\n",
        "#creating the dictionary\n",
        "dict_1={'.':1,',':11,'?':111,'!':1111,':':11111,'A':2,'B':22,'C':222,'D':3,'E':33,'F':333,'G':4,'H':44,'I':444,'J':5,'K':55,'L':555,'M':6,'N':66,'O':666,'P':7,'Q':7,'R':777,'S':7777,'T':8,'U':88,'V':888,'W':9,'X':99,'Y':999,'Z':9999,' ': 0 }\n",
        "\n",
        "string=input(\"Enter string: \")\n",
        "\n",
        "result_str=\"\"\n",
        "\n",
        "#first checking if any small letter are present and turning them uppercase\n",
        "#next if: if symbol in dict, printing the correspodning value\n",
        "for letter in string:\n",
        "    if ord(letter)>=97 and ord(letter)<=122:\n",
        "        letter=letter.upper()\n",
        "    \n",
        "    if letter in dict_1:\n",
        "        for i in dict_1:\n",
        "            if letter==i:\n",
        "                result_str+=str(dict_1[i])\n",
        "                \n",
        "print(result_str)                "
      ],
      "execution_count": null,
      "outputs": [
        {
          "output_type": "stream",
          "text": [
            "Enter string: Hello, World!\n",
            "4433555555666110966677755531111\n"
          ],
          "name": "stdout"
        }
      ]
    }
  ]
}