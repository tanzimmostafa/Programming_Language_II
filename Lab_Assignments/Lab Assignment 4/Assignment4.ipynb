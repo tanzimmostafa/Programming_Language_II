{
  "nbformat": 4,
  "nbformat_minor": 0,
  "metadata": {
    "colab": {
      "name": "Assignment4_Summer21.ipynb",
      "provenance": [],
      "collapsed_sections": []
    },
    "kernelspec": {
      "name": "python3",
      "display_name": "Python 3"
    },
    "language_info": {
      "name": "python"
    }
  },
  "cells": [
    {
      "cell_type": "code",
      "metadata": {
        "id": "2faKcs12kXtq",
        "colab": {
          "base_uri": "https://localhost:8080/"
        },
        "outputId": "c2688e84-5607-4892-e461-4f4d8bed423e"
      },
      "source": [
        "#Q1\n",
        "class Calculator:\n",
        "    def __init__(self, name = 0,sign = '',name2= 0):\n",
        "        #+self.name = name\n",
        "        #self.sign = sign\n",
        "        #self.name2 = name2\n",
        "        print(\"Let's calculate!\")\n",
        "    def add(self,name,name2):\n",
        "        a = name +name2\n",
        "        print(\"Result:\",a)\n",
        "    def sub(self,name,name2):\n",
        "        a = name-name2\n",
        "        print(\"Result:\",a)\n",
        "    def multi(self,name,name2):\n",
        "        a = name*name2\n",
        "        print(\"Result:\",a)\n",
        "    def div(self,name,name2):\n",
        "        a = name/name2\n",
        "        print(\"Result:\",a)\n",
        "v1 = Calculator()\n",
        "x = int(input(\"Enter Value 1:\"))\n",
        "#v1.name = x\n",
        "y = input(\"Givbe Operator:\")\n",
        "#v1.sign = y\n",
        "z = int(input(\"Enter Value 2:\"))\n",
        "#v1.name2 = z\n",
        "\n",
        "print('Value 1:',x)\n",
        "print(\"Operator:\",y)\n",
        "print(\"Value 2:\",z)\n",
        "if y == '+':\n",
        "    v1.add(x, z)\n",
        "if y == '-':\n",
        "    v1.sub(x, z)\n",
        "if y == '*':\n",
        "    v1.multi(x, z)\n",
        "if y == '/':\n",
        "    v1.div(x, z)\n",
        "    "
      ],
      "execution_count": 2,
      "outputs": [
        {
          "output_type": "stream",
          "name": "stdout",
          "text": [
            "Let's calculate!\n",
            "Value 1:1\n",
            "Operator:+\n",
            "Value 2:2\n",
            "Value 1: 1\n",
            "Operator: +\n",
            "Value 2: 2\n",
            "Result: 3\n"
          ]
        }
      ]
    },
    {
      "cell_type": "code",
      "metadata": {
        "id": "XID6kM7QknJr",
        "colab": {
          "base_uri": "https://localhost:8080/"
        },
        "outputId": "ba541c92-59dc-480a-908f-0944f3b0426c"
      },
      "source": [
        "#Q1 #Another way\n",
        "class Calculator:\n",
        "    def __init__(self, name = 0,sign = '',name2= 0):\n",
        "        self.name = name\n",
        "        self.sign = sign\n",
        "        self.name2 = name2\n",
        "        print(\"Let's calculate!\")\n",
        "    def add(self):\n",
        "        a = self.name +self.name2\n",
        "        print(\"Result:\",a)\n",
        "    def sub(self):\n",
        "        a = self.name-self.name2\n",
        "        print(\"Result:\",a)\n",
        "    def multi(self):\n",
        "        a = self.name*self.name2\n",
        "        print(\"Result:\",a)\n",
        "    def div(self):\n",
        "        a = self.name/self.name2\n",
        "        print(\"Result:\",a)\n",
        "v1 = Calculator()\n",
        "x = int(input(\"Value 1:\"))\n",
        "v1.name = x\n",
        "y = input(\"Operator:\")\n",
        "v1.sign = y\n",
        "z = int(input(\"Value 2:\"))\n",
        "v1.name2 = z\n",
        "\n",
        "print('Value 1:',x)\n",
        "print(\"Operator:\",y)\n",
        "print(\"Value 2:\",z)\n",
        "if y == '+':\n",
        "    v1.add()\n",
        "if y == '-':\n",
        "    v1.sub()\n",
        "if y == '*':\n",
        "    v1.multi()\n",
        "if y == '/':\n",
        "    v1.div()\n",
        "    "
      ],
      "execution_count": 3,
      "outputs": [
        {
          "output_type": "stream",
          "name": "stdout",
          "text": [
            "Let's calculate!\n",
            "Value 1:4\n",
            "Operator:/\n",
            "Value 2:2\n",
            "Value 1: 4\n",
            "Operator: /\n",
            "Value 2: 2\n",
            "Result: 2.0\n"
          ]
        }
      ]
    },
    {
      "cell_type": "code",
      "metadata": {
        "id": "pirIhmNHkgYM",
        "colab": {
          "base_uri": "https://localhost:8080/"
        },
        "outputId": "f723b193-0b6f-40c8-e403-56ca08a3d6ff"
      },
      "source": [
        "#Q2\n",
        "class Customer:\n",
        "    def __init__(self,name= ''):\n",
        "        self.name = name       \n",
        "    def greet(self, name= None):\n",
        "        if name== None:\n",
        "            print(\"Hello!\")\n",
        "        else:\n",
        "            print(\"Hello\",self.name+\"!\")\n",
        "    def purchase(self,*num): # *args: Receive multiple arguments as a tuple\n",
        "        # **args: Receive multiple keyword arguments as a dictionary\n",
        "        #print(\"{}, you purchased\".format(self.name),len(num),\"item(s): \")\n",
        "        print(f'{self.name}, you purchased {len(num)} item(s):')\n",
        "        for i in num:\n",
        "            print(i)\n",
        "        \n",
        "        \n",
        "customer_1 = Customer(\"Sam\")\n",
        "customer_1.greet()\n",
        "customer_1.purchase(\"chips\", \"chocolate\", \"orange juice\")\n",
        "print(\"-----------------------------\")\n",
        "customer_2 = Customer(\"David\")\n",
        "customer_2.greet(\"David\")\n",
        "customer_2.purchase(\"orange juice\")"
      ],
      "execution_count": 4,
      "outputs": [
        {
          "output_type": "stream",
          "name": "stdout",
          "text": [
            "Hello!\n",
            "Sam, you purchased 3 item(s):\n",
            "chips\n",
            "chocolate\n",
            "orange juice\n",
            "-----------------------------\n",
            "Hello David!\n",
            "David, you purchased 1 item(s):\n",
            "orange juice\n"
          ]
        }
      ]
    },
    {
      "cell_type": "code",
      "metadata": {
        "id": "MosgJQL0kn-s",
        "colab": {
          "base_uri": "https://localhost:8080/"
        },
        "outputId": "b7659ba8-0bc7-460c-ebe7-e76b2a278760"
      },
      "source": [
        "#Q3\n",
        "class Panda:\n",
        "    def __init__(self, name='', gender='', age=0):\n",
        "        self.name = name \n",
        "        self.gender = gender\n",
        "        self.age = age\n",
        "    def sleep(self, sleep = None):\n",
        "        if sleep == None:\n",
        "            return f\"{self.name}'s duration is unknown thus should have only bamboo leaves\"\n",
        "        elif sleep>=3 and sleep <=5: \n",
        "            return f\"{self.name} sleeps {sleep} hours daily and should have Mixed Veggies\"\n",
        "        elif sleep>=6 and sleep <=8:\n",
        "            return f\"{self.name} sleeps {sleep} hours daily and should have Eggplant & Tofu\"\n",
        "        elif sleep>=9 and sleep <=11:\n",
        "            return f\"{self.name} sleeps {sleep} hours daily and should have Broccoli Chicken\"\n",
        "panda1 = Panda(\"Kunfu\",\"Male\", 5)\n",
        "panda2=Panda(\"Pan Pan\",\"Female\",3)\n",
        "panda3=Panda(\"Ming Ming\",\"Female\",8)\n",
        "\n",
        "print(\"{} is a {} Panda Bear who is {} years old\".format(panda1.name,panda1.gender,panda1.age))\n",
        "print(\"{} is a {} Panda Bear who is {} years old\".format(panda2.name,panda2.gender,panda2.age))\n",
        "print(\"{} is a {} Panda Bear who is {} years old\".format(panda3.name,panda3.gender,panda3.age))\n",
        "print(\"===========================\")\n",
        "print(panda2.sleep(10))\n",
        "print(panda1.sleep(4))\n",
        "print(panda3.sleep())"
      ],
      "execution_count": 7,
      "outputs": [
        {
          "output_type": "stream",
          "name": "stdout",
          "text": [
            "Kunfu is a Male Panda Bear who is 5 years old\n",
            "Pan Pan is a Female Panda Bear who is 3 years old\n",
            "Ming Ming is a Female Panda Bear who is 8 years old\n",
            "===========================\n",
            "Pan Pan sleeps 10 hours daily and should have Broccoli Chicken\n",
            "Kunfu sleeps 4 hours daily and should have Mixed Veggies\n",
            "Ming Ming's duration is unknown thus should have only bamboo leaves\n"
          ]
        }
      ]
    },
    {
      "cell_type": "code",
      "metadata": {
        "id": "bNffdeYIkrlz",
        "colab": {
          "base_uri": "https://localhost:8080/"
        },
        "outputId": "5b485809-bd86-460e-eb36-f6e44e40e7cb"
      },
      "source": [
        "#Q4\n",
        "class Cat:\n",
        "    def __init__(self, color = \"White\", action =\"sitting\"):\n",
        "        self.color = color\n",
        "        self.action = action      \n",
        "    def printCat(self):\n",
        "        print(self.color, \"cat is\", self.action)\n",
        "    def changeColor(self, color):\n",
        "        self.color = color \n",
        "  \n",
        "c1 = Cat()\n",
        "c2 = Cat(\"Black\")\n",
        "c3 = Cat(\"Brown\", \"jumping\")\n",
        "c4 = Cat(\"Red\", \"purring\")\n",
        "c1.printCat()\n",
        "c2.printCat()\n",
        "c3.printCat()\n",
        "c4.printCat()\n",
        "c1.changeColor(\"Blue\")\n",
        "c3.changeColor(\"Purple\")\n",
        "c1.printCat()\n",
        "c3.printCat()"
      ],
      "execution_count": 8,
      "outputs": [
        {
          "output_type": "stream",
          "name": "stdout",
          "text": [
            "White cat is sitting\n",
            "Black cat is sitting\n",
            "Brown cat is jumping\n",
            "Red cat is purring\n",
            "Blue cat is sitting\n",
            "Purple cat is jumping\n"
          ]
        }
      ]
    },
    {
      "cell_type": "code",
      "metadata": {
        "colab": {
          "base_uri": "https://localhost:8080/"
        },
        "id": "0vtsxrtvkwzW",
        "outputId": "6a8e5c1c-271a-4b5c-a206-7ad0426a40d1"
      },
      "source": [
        "#Q5\n",
        "class Student:#3 quizzes in total\n",
        "  def __init__(self, name='default student'):\n",
        "    self.name=name\n",
        "    #self.score=0\n",
        "\n",
        "  def quizcalc(self,*score):\n",
        "    sum=0\n",
        "    for i in score:\n",
        "      sum+=i\n",
        "    self.score=sum/3\n",
        "\n",
        "  def printdetail(self):\n",
        "    print(f'Hello {self.name} \\nYour average quiz score is {self.score}')  \n",
        "\n",
        "\n",
        "# Write your code here\n",
        "s1 = Student()\n",
        "s1.quizcalc(10)\n",
        "print('--------------------------------')\n",
        "s1.printdetail()\n",
        "\n",
        "s2 = Student('Harry')\n",
        "s2.quizcalc(10,8)\n",
        "print('--------------------------------')\n",
        "s2.printdetail()\n",
        "s3 = Student('Hermione')\n",
        "s3.quizcalc(10,9,10)\n",
        "print('--------------------------------')\n",
        "s3.printdetail()"
      ],
      "execution_count": 12,
      "outputs": [
        {
          "output_type": "stream",
          "name": "stdout",
          "text": [
            "--------------------------------\n",
            "Hello default student \n",
            "Your average quiz score is 3.3333333333333335\n",
            "--------------------------------\n",
            "Hello Harry \n",
            "Your average quiz score is 6.0\n",
            "--------------------------------\n",
            "Hello Hermione \n",
            "Your average quiz score is 9.666666666666666\n"
          ]
        }
      ]
    },
    {
      "cell_type": "code",
      "metadata": {
        "colab": {
          "base_uri": "https://localhost:8080/"
        },
        "id": "X57MhrbWqAwa",
        "outputId": "dd4384e6-91a3-4c0d-f076-6369104b4cfa"
      },
      "source": [
        "#Q6\n",
        "class Vehicle:\n",
        "    def __init__(self):\n",
        "        self.x = 0\n",
        "        self.y = 0\n",
        "    def moveUp(self):\n",
        "        self.y= self.y+1\n",
        "    def moveLeft(self):\n",
        "        self.x = self.x-1\n",
        "    def moveDown(self):\n",
        "        self.y = self.y-1\n",
        "    def moveRight(self):\n",
        "        self.x = self.x+1\n",
        "    def print_position(self):\n",
        "        print(\"(\"+str(self.x)+','+str(self.y)+\")\")\n",
        "\n",
        "car = Vehicle()\n",
        "car.print_position()\n",
        "car.moveUp()\n",
        "car.print_position()\n",
        "car.moveLeft()\n",
        "car.print_position()\n",
        "car.moveDown()\n",
        "car.print_position()\n",
        "car.moveRight()"
      ],
      "execution_count": 13,
      "outputs": [
        {
          "output_type": "stream",
          "name": "stdout",
          "text": [
            "(0,0)\n",
            "(0,1)\n",
            "(-1,1)\n",
            "(-1,0)\n"
          ]
        }
      ]
    },
    {
      "cell_type": "code",
      "metadata": {
        "colab": {
          "base_uri": "https://localhost:8080/"
        },
        "id": "MIlVPwuaqDBg",
        "outputId": "7e9d6f69-4293-4efc-c9b9-46d4d4e8848a"
      },
      "source": [
        "#Q7\n",
        "class Programmer:\n",
        "    def __init__(self,name,lang,exp):\n",
        "        self.name = name\n",
        "        self.lang = lang\n",
        "        self.exp = exp\n",
        "        print(\"Horray! A new programmer is born\")\n",
        "    def printDetails(self):\n",
        "        print(\"Name:\",self.name,\n",
        "              \"\\nLanguage:\",self.lang,\n",
        "              \"\\nExperience:\", self.exp ,\"years.\")\n",
        "    def addExp(self, n):\n",
        "        self.exp = self.exp+n\n",
        "        print(\"Updating experience of\", self.name)\n",
        "\n",
        "p1 = Programmer(\"Ethen Hunt\", \"Java\", 10)\n",
        "p1.printDetails()\n",
        "print('--------------------------')\n",
        "p2 = Programmer(\"James Bond\", \"C++\", 7)\n",
        "p2.printDetails()\n",
        "print('--------------------------')\n",
        "p3 = Programmer(\"Jon Snow\", \"Python\", 4)\n",
        "p3.printDetails()\n",
        "p3.addExp(5)\n",
        "p3.printDetails()"
      ],
      "execution_count": null,
      "outputs": [
        {
          "output_type": "stream",
          "text": [
            "Horray! A new programmer is born\n",
            "Name: Ethen Hunt \n",
            "Language: Java \n",
            "Experience: 10 years.\n",
            "--------------------------\n",
            "Horray! A new programmer is born\n",
            "Name: James Bond \n",
            "Language: C++ \n",
            "Experience: 7 years.\n",
            "--------------------------\n",
            "Horray! A new programmer is born\n",
            "Name: Jon Snow \n",
            "Language: Python \n",
            "Experience: 4 years.\n",
            "Updating experience of Jon Snow\n",
            "Name: Jon Snow \n",
            "Language: Python \n",
            "Experience: 9 years.\n"
          ],
          "name": "stdout"
        }
      ]
    },
    {
      "cell_type": "code",
      "metadata": {
        "colab": {
          "base_uri": "https://localhost:8080/"
        },
        "id": "2qqrq5shqKYH",
        "outputId": "c3b0cea7-c4f2-454a-aee0-fb1d02e804bc"
      },
      "source": [
        "#Q8\n",
        "class Student:\n",
        "    def __init__(self,name = '',ID = 0, dept = 'CSE'):\n",
        "        self.name = name\n",
        "        self.ID = ID\n",
        "        self.dept = dept\n",
        "    \n",
        "\n",
        "    def dailyEffort(self,n):\n",
        "        self.n = n #instance variable  #can be accessed by other functions       \n",
        "         \n",
        "    def printDetails(self):\n",
        "        print(\"Name:\",self.name,\n",
        "              \"\\nID:\",self.ID,\n",
        "              \"\\nDepartment:\", self.dept,\n",
        "              \"\\nDaily Effort:\",self.n,\"hour(s)\")\n",
        "       \n",
        "        if self.n <= 2:\n",
        "          print(\"Suggestion: Should give more effort!\")\n",
        "        elif self.n <= 4:\n",
        "          print(\"Suggestion: Keep up the good work!\")\n",
        "        else:  \n",
        "          print(\"Suggestion: Excellent! Now motivate others.\")       \n",
        "\n",
        "harry = Student('Harry Potter', 123)\n",
        "harry.dailyEffort(3)\n",
        "harry.printDetails()\n",
        "print('========================')\n",
        "john = Student(\"John Wick\", 456, \"BBA\")\n",
        "john.dailyEffort(2)\n",
        "john.printDetails()\n",
        "print('========================')\n",
        "naruto = Student(\"Naruto Uzumaki\", 777, \"Ninja\")\n",
        "naruto.dailyEffort(6)\n",
        "naruto.printDetails()"
      ],
      "execution_count": null,
      "outputs": [
        {
          "output_type": "stream",
          "text": [
            "Name: Harry Potter \n",
            "ID: 123 \n",
            "Department: CSE \n",
            "Daily Effort: 3 hour(s)\n",
            "Suggestion: Keep up the good work!\n",
            "========================\n",
            "Name: John Wick \n",
            "ID: 456 \n",
            "Department: BBA \n",
            "Daily Effort: 2 hour(s)\n",
            "Suggestion: Should give more effort!\n",
            "========================\n",
            "Name: Naruto Uzumaki \n",
            "ID: 777 \n",
            "Department: Ninja \n",
            "Daily Effort: 6 hour(s)\n",
            "Suggestion: Excellent! Now motivate others.\n"
          ],
          "name": "stdout"
        }
      ]
    },
    {
      "cell_type": "code",
      "metadata": {
        "colab": {
          "base_uri": "https://localhost:8080/"
        },
        "id": "Ch-sUY0lqQhT",
        "outputId": "cb09a491-6abf-4623-f097-2f319b3a85c7"
      },
      "source": [
        "#Q9\n",
        "class Patient():\n",
        "    def __init__(self, name, age):\n",
        "        self.name = name\n",
        "        self.age = age\n",
        "        self.symp = ''\n",
        "    def add_Symptom(self, *info):\n",
        "        for i in info:\n",
        "            self.symp = self.symp+i+', '\n",
        "    def printPatientDetail(self):\n",
        "        print(\"Name:\", self.name,\n",
        "             \"\\nAge:\", self.age,\n",
        "             \"\\nSymptoms:\", self.symp[:len(self.symp)-2]) #string slicing to get rid of ,space at end\n",
        "\n",
        "\n",
        "p1 = Patient(\"Thomas\", 23)\n",
        "p1.add_Symptom(\"Headache\")\n",
        "p2 = Patient(\"Carol\", 20)\n",
        "p2.add_Symptom(\"Vomiting\", \"Coughing\")\n",
        "p3 = Patient(\"Mike\", 25)\n",
        "p3.add_Symptom(\"Fever\", \"Headache\", \"Coughing\")\n",
        "print(\"=========================\")\n",
        "p1.printPatientDetail()\n",
        "print(\"=========================\")\n",
        "p2.printPatientDetail()\n",
        "print(\"=========================\")\n",
        "p3.printPatientDetail()\n",
        "print(\"=========================\")"
      ],
      "execution_count": null,
      "outputs": [
        {
          "output_type": "stream",
          "text": [
            "=========================\n",
            "Name: Thomas \n",
            "Age: 23 \n",
            "Symptoms: Headache\n",
            "=========================\n",
            "Name: Carol \n",
            "Age: 20 \n",
            "Symptoms: Vomiting, Coughing\n",
            "=========================\n",
            "Name: Mike \n",
            "Age: 25 \n",
            "Symptoms: Fever, Headache, Coughing\n",
            "=========================\n"
          ],
          "name": "stdout"
        }
      ]
    },
    {
      "cell_type": "code",
      "metadata": {
        "colab": {
          "base_uri": "https://localhost:8080/"
        },
        "id": "lmJYusW7qjbJ",
        "outputId": "c0d24909-4af0-4a18-d0a7-57fbe7183b32"
      },
      "source": [
        "#Q10\n",
        "class Avengers():\n",
        "    def __init__(self, name, name2):\n",
        "        self.name = name\n",
        "        self.name2 = name2\n",
        "        self.power =''\n",
        "    def super_powers(self, *info):\n",
        "        for i in info:\n",
        "            self.power = self.power +i+\", \"\n",
        "            \n",
        "    def printAvengersDetail(self):\n",
        "        print(\"Name:\", self.name,\n",
        "             \"\\nPartner:\", self.name2,\n",
        "             \"\\nSuper Powers:\", self.power[:len(self.power)-2])\n",
        "        \n",
        "a1 = Avengers('Captain America', 'Bucky Barnes')\n",
        "a1.super_powers('Stamina', 'Slowed ageing')\n",
        "a2 = Avengers('Doctor Strange', 'Ancient One')\n",
        "a2.super_powers('Mastery of magic')\n",
        "a3 = Avengers('Iron Man', 'War Machine')\n",
        "a3.super_powers('Genius level intellect', 'Scientist ')\n",
        "print(\"=========================\")\n",
        "a1.printAvengersDetail()\n",
        "print(\"=========================\")\n",
        "a2.printAvengersDetail()\n",
        "print(\"=========================\")\n",
        "a3.printAvengersDetail()\n",
        "print(\"=========================\")"
      ],
      "execution_count": null,
      "outputs": [
        {
          "output_type": "stream",
          "text": [
            "=========================\n",
            "Name: Captain America \n",
            "Partner: Bucky Barnes \n",
            "Super Powers: Stamina, Slowed ageing\n",
            "=========================\n",
            "Name: Doctor Strange \n",
            "Partner: Ancient One \n",
            "Super Powers: Mastery of magic\n",
            "=========================\n",
            "Name: Iron Man \n",
            "Partner: War Machine \n",
            "Super Powers: Genius level intellect, Scientist \n",
            "=========================\n"
          ],
          "name": "stdout"
        }
      ]
    },
    {
      "cell_type": "code",
      "metadata": {
        "colab": {
          "base_uri": "https://localhost:8080/"
        },
        "id": "t8AJTYP1tS3R",
        "outputId": "7911aa38-b64e-45b6-c43f-e7931b70920f"
      },
      "source": [
        "#Q11\n",
        "class Shinobi:\n",
        "    def __init__(self, name,rank):\n",
        "        self.name = name\n",
        "        self.rank = rank\n",
        "        self.salary = 0\n",
        "        self.mission = 0\n",
        "    def calSalary(self,n):\n",
        "        self.mission = n\n",
        "        if self.rank == 'Genin':\n",
        "            self.salary = self.mission*50\n",
        "        elif self.rank == 'Chunin':\n",
        "            self.salary = self.mission*100\n",
        "        else:\n",
        "            self.salary = self.mission*500\n",
        "    def printInfo(self):\n",
        "        print(\"Name:\",self.name,\n",
        "             \"\\nRank:\", self.rank,\n",
        "             \"\\nNumber of mission:\", self.mission,\n",
        "             \"\\nSalary:\",self.salary)\n",
        "    def changeRank(self,z):\n",
        "        self.rank = z\n",
        "\n",
        "naruto = Shinobi(\"Naruto\", \"Genin\")\n",
        "naruto.calSalary(5)\n",
        "naruto.printInfo()\n",
        "print('====================')\n",
        "shikamaru = Shinobi('Shikamaru', \"Genin\")\n",
        "shikamaru.printInfo()\n",
        "shikamaru.changeRank(\"Chunin\")\n",
        "shikamaru.calSalary(10)\n",
        "shikamaru.printInfo()\n",
        "print('====================')\n",
        "neiji = Shinobi(\"Neiji\", \"Jonin\")\n",
        "neiji.calSalary(5)\n",
        "neiji.printInfo()"
      ],
      "execution_count": null,
      "outputs": [
        {
          "output_type": "stream",
          "text": [
            "Name: Naruto \n",
            "Rank: Genin \n",
            "Number of mission: 5 \n",
            "Salary: 250\n",
            "====================\n",
            "Name: Shikamaru \n",
            "Rank: Genin \n",
            "Number of mission: 0 \n",
            "Salary: 0\n",
            "Name: Shikamaru \n",
            "Rank: Chunin \n",
            "Number of mission: 10 \n",
            "Salary: 1000\n",
            "====================\n",
            "Name: Neiji \n",
            "Rank: Jonin \n",
            "Number of mission: 5 \n",
            "Salary: 2500\n"
          ],
          "name": "stdout"
        }
      ]
    },
    {
      "cell_type": "code",
      "metadata": {
        "id": "V9m8V6eStcHX",
        "colab": {
          "base_uri": "https://localhost:8080/"
        },
        "outputId": "607932c2-b7ce-42e5-c477-e1bfad622e06"
      },
      "source": [
        "#Q12\n",
        "class ParcelKoro:\n",
        "  def __init__(self,name='No name set', weight=0):\n",
        "    self.name=name\n",
        "    self.product_weight=weight\n",
        "    self.fee=0\n",
        "\n",
        "  def calculateFee(self,location=None):\n",
        "     if self.product_weight==0:\n",
        "       self.fee=0\n",
        "     else:\n",
        "      if location==None:\n",
        "        self.fee=(self.product_weight*20)+50\n",
        "      else:\n",
        "         self.fee=(self.product_weight*20)+100\n",
        "\n",
        "  def printDetails(self):\n",
        "ct_weight} \\nTotal fee: {self.fee}')         \n",
        "print(\"**********************\")\n",
        "p1 = ParcelKoro()\n",
        "p1.calculateFee()\n",
        "p1.printDetails()\n",
        "print(\"**********************\")\n",
        "p2 = ParcelKoro('Bob The Builder')\n",
        "p2.calculateFee()\n",
        "p2.printDetails()\n",
        "print(\"----------------------------\")\n",
        "p2.product_weight = 15\n",
        "p2.calculateFee()\n",
        "p2.printDetails()\n",
        "print(\"**********************\")\n",
        "p3 = ParcelKoro('Dora The Explorer', 10)\n",
        "p3.calculateFee('Dhanmondi')\n",
        "p3.printDetails()"
      ],
      "execution_count": null,
      "outputs": [
        {
          "output_type": "stream",
          "text": [
            "**********************\n",
            "Customer Name: No name set \n",
            "Product Weight: 0 \n",
            "Total fee: 0\n",
            "**********************\n",
            "Customer Name: Bob The Builder \n",
            "Product Weight: 0 \n",
            "Total fee: 0\n",
            "----------------------------\n",
            "Customer Name: Bob The Builder \n",
            "Product Weight: 15 \n",
            "Total fee: 350\n",
            "**********************\n",
            "Customer Name: Dora The Explorer \n",
            "Product Weight: 10 \n",
            "Total fee: 300\n"
          ],
          "name": "stdout"
        }
      ]
    },
    {
      "cell_type": "code",
      "metadata": {
        "colab": {
          "base_uri": "https://localhost:8080/"
        },
        "id": "Xexw3kRMIQbj",
        "outputId": "500d6a32-abd8-43b8-ea85-3d4817f48939"
      },
      "source": [
        "#Q13\n",
        "class Batsman:\n",
        "  def __init__(self, name=None, run=0, ball=0):\n",
        "    if type(name)==int:\n",
        "      self.name='New Batsman'\n",
        "      self.run=name\n",
        "      self.ball=run\n",
        "    else: \n",
        "      self.name=name\n",
        "      self.run=run\n",
        "      self.ball=ball\n",
        "  def printCareerStatistics(self):\n",
        "    print(f'Name: {self.name} \\nRuns Scored: {self.run}, Balls Faced: {self.ball} ') \n",
        "  def battingStrikeRate(self):\n",
        "    return (self.run/self.ball)*100 \n",
        "  def setName(self,name):\n",
        "    self.name=name    \n",
        "\n",
        "b1 = Batsman(6101, 7380)\n",
        "b1.printCareerStatistics()\n",
        "print(\"============================\")\n",
        "b2 = Batsman(\"Liton Das\", 678, 773)\n",
        "b2.printCareerStatistics()\n",
        "print(\"----------------------------\")\n",
        "print(b2.battingStrikeRate())\n",
        "print(\"============================\")\n",
        "b1.setName(\"Shakib Al Hasan\")\n",
        "b1.printCareerStatistics()\n",
        "print(\"----------------------------\")\n",
        "print(b1.battingStrikeRate())    "
      ],
      "execution_count": null,
      "outputs": [
        {
          "output_type": "stream",
          "text": [
            "Name: New Batsman \n",
            "Runs Scored: 6101, Balls Faced: 7380 \n",
            "============================\n",
            "Name: Liton Das \n",
            "Runs Scored: 678, Balls Faced: 773 \n",
            "----------------------------\n",
            "87.71021992238033\n",
            "============================\n",
            "Name: Shakib Al Hasan \n",
            "Runs Scored: 6101, Balls Faced: 7380 \n",
            "----------------------------\n",
            "82.66937669376694\n"
          ],
          "name": "stdout"
        }
      ]
    },
    {
      "cell_type": "code",
      "metadata": {
        "colab": {
          "base_uri": "https://localhost:8080/"
        },
        "id": "ApGRxYpvHEhI",
        "outputId": "30fef9dd-0804-4b3d-81a9-695f7811062a"
      },
      "source": [
        "#Q14\n",
        "class EPL_Team:\n",
        "  def __init__(self,name='',song='No Slogan'):\n",
        "    self.name=name\n",
        "    self.song=song\n",
        "    self.title=0\n",
        "\n",
        "  def increaseTitle(self):\n",
        "    self.title+=1\n",
        "\n",
        "  def changeSong(self,song):\n",
        "    self.song=song\n",
        "\n",
        "  def showClubInfo(self):\n",
        "    return f'Name: {self.name} \\nSong:{self.song} \\nTotal No of title: {self.title}'\n",
        "\n",
        "\n",
        "manu = EPL_Team('Manchester United', 'Glory Glory Man United') \n",
        "chelsea = EPL_Team('Chelsea') \n",
        "print('===================') \n",
        "print(manu.showClubInfo())\n",
        "print('##################') \n",
        "manu.increaseTitle() \n",
        "print(manu.showClubInfo()) \n",
        "print('===================') \n",
        "print(chelsea.showClubInfo()) \n",
        "chelsea.changeSong('Keep the blue flag flying high')\n",
        "print(chelsea.showClubInfo())\n",
        "\n",
        "\n",
        "\n"
      ],
      "execution_count": null,
      "outputs": [
        {
          "output_type": "stream",
          "text": [
            "===================\n",
            "Name: Manchester United \n",
            "Song:Glory Glory Man United \n",
            "Total No of title: 0\n",
            "##################\n",
            "Name: Manchester United \n",
            "Song:Glory Glory Man United \n",
            "Total No of title: 1\n",
            "===================\n",
            "Name: Chelsea \n",
            "Song:No Slogan \n",
            "Total No of title: 0\n",
            "Name: Chelsea \n",
            "Song:Keep the blue flag flying high \n",
            "Total No of title: 0\n"
          ],
          "name": "stdout"
        }
      ]
    },
    {
      "cell_type": "code",
      "metadata": {
        "colab": {
          "base_uri": "https://localhost:8080/"
        },
        "id": "3OMiZAJx0GhB",
        "outputId": "29d011bf-52f0-40bb-d613-fcab33cbb4bc"
      },
      "source": [
        "#Q15\n",
        "class Account:\n",
        "  def __init__(self,name='Default Account',balance=0.0):\n",
        "    self.name=name\n",
        "    self.balance=balance\n",
        "\n",
        "  def withdraw(self, value):\n",
        "    if self.balance-value>=3071:\n",
        "      self.balance-=value\n",
        "      print(f'Withdraw successful! New balance is: {self.balance}')\n",
        "    else:\n",
        "      print('Sorry, Withdraw unsuccessful! The account balance after deducting withdraw amount is equal to or less than minimum.')\n",
        "\n",
        "  def details(self):\n",
        "    return f\"{self.name} \\n{self.balance}\"\n",
        "      \n",
        "a1 = Account()\n",
        "print(a1.details())\n",
        "print(\"------------------------\")\n",
        "a1.name = \"Oliver\"\n",
        "a1.balance = 10000.0\n",
        "print(a1.details())\n",
        "print(\"------------------------\")\n",
        "a2 = Account(\"Liam\")\n",
        "print(a2.details())\n",
        "print(\"------------------------\")\n",
        "a3 = Account(\"Noah\",400)\n",
        "print(a3.details())\n",
        "print(\"------------------------\")\n",
        "a1.withdraw(6930);\n",
        "print(\"------------------------\")\n",
        "a2.withdraw(600);\n",
        "print(\"------------------------\")\n",
        "a1.withdraw(6929)"
      ],
      "execution_count": null,
      "outputs": [
        {
          "output_type": "stream",
          "text": [
            "Default Account \n",
            "0.0\n",
            "------------------------\n",
            "Oliver \n",
            "10000.0\n",
            "------------------------\n",
            "Liam \n",
            "0.0\n",
            "------------------------\n",
            "Noah \n",
            "400\n",
            "------------------------\n",
            "Sorry, Withdraw unsuccessful! The account balance after deducting withdraw amount is equal to or less than minimum.\n",
            "------------------------\n",
            "Sorry, Withdraw unsuccessful! The account balance after deducting withdraw amount is equal to or less than minimum.\n",
            "------------------------\n",
            "Withdraw successful! New balance is: 3071.0\n"
          ],
          "name": "stdout"
        }
      ]
    },
    {
      "cell_type": "code",
      "metadata": {
        "colab": {
          "base_uri": "https://localhost:8080/"
        },
        "id": "80rLuL8bAqeg",
        "outputId": "98b94013-4c71-4f88-88be-1a58dae6574e"
      },
      "source": [
        "#Q16\n",
        "class Author:\n",
        "  def __init__(self,name='Default',*book):\n",
        "    self.name=name\n",
        "    self.lst=[]\n",
        "    for i in book:\n",
        "      self.lst.append(i)\n",
        "    \n",
        "  def addBooks(self,*book):\n",
        "    for i in book:\n",
        "      self.lst.append(i)\n",
        "  \n",
        "  def changeName(self,name):\n",
        "    self.name=name\n",
        "\n",
        "  def printDetails(self):\n",
        "    print(f'Author Name: {self.name} \\n----- \\nList of Books:')\n",
        "    for i in self.lst:\n",
        "      print(i)\n",
        "    \n",
        "\n",
        "auth1 = Author('Humayun Ahmed')\n",
        "auth1.addBooks('Deyal', 'Megher Opor Bari')\n",
        "auth1.printDetails()\n",
        "print('===================')\n",
        "auth2 = Author()\n",
        "print(auth2.name)\n",
        "auth2.changeName('Mario Puzo')\n",
        "auth2.addBooks('The Godfather', 'Omerta', 'The Sicilian')\n",
        "print('===================')\n",
        "auth2.printDetails()\n",
        "print('===================')\n",
        "auth3 = Author('Paolo Coelho', 'The Alchemist', 'The Fifth Mountain')\n",
        "auth3.printDetails()            "
      ],
      "execution_count": null,
      "outputs": [
        {
          "output_type": "stream",
          "text": [
            "Author Name: Humayun Ahmed \n",
            "----- \n",
            "List of Books:\n",
            "Deyal\n",
            "Megher Opor Bari\n",
            "===================\n",
            "Default\n",
            "===================\n",
            "Author Name: Mario Puzo \n",
            "----- \n",
            "List of Books:\n",
            "The Godfather\n",
            "Omerta\n",
            "The Sicilian\n",
            "===================\n",
            "Author Name: Paolo Coelho \n",
            "----- \n",
            "List of Books:\n",
            "The Alchemist\n",
            "The Fifth Mountain\n"
          ],
          "name": "stdout"
        }
      ]
    },
    {
      "cell_type": "code",
      "metadata": {
        "colab": {
          "base_uri": "https://localhost:8080/"
        },
        "id": "8_YBWQ5ov6Vj",
        "outputId": "4132fa4c-9a5b-4ee9-c717-e2d967ba4e22"
      },
      "source": [
        "#Q16 another way\n",
        "class Author:\n",
        "    def __init__(self, name=\"Default\", *book):\n",
        "        self.name=name\n",
        "        self.book=''\n",
        "        for i in range(len(book)):\n",
        "            if i==len(book)-1:\n",
        "                self.book+=book[i]\n",
        "            else:\n",
        "                self.book+=book[i]+'\\n'\n",
        "            \n",
        "    def addBooks(self,*book):   \n",
        "        for i in range(len(book)):\n",
        "            if i==len(book)-1:\n",
        "                self.book+=book[i]\n",
        "            else:\n",
        "                self.book+=book[i]+'\\n'\n",
        "            \n",
        "    def printDetails(self):\n",
        "        print('Author Name:',self.name)\n",
        "        print('--------')\n",
        "        print(f\"List of Books: \\n{self.book}\")\n",
        " \n",
        "    def changeName(self,name):\n",
        "        self.name=name\n",
        "auth1 = Author('Humayun Ahmed')\n",
        "auth1.addBooks('Deyal', 'Megher Opor Bari')\n",
        "auth1.printDetails()\n",
        "print('===================')\n",
        "auth2 = Author()\n",
        "print(auth2.name)\n",
        "auth2.changeName('Mario Puzo')\n",
        "auth2.addBooks('The Godfather', 'Omerta', 'The Sicilian')\n",
        "print('===================')\n",
        "auth2.printDetails()\n",
        "print('===================')\n",
        "auth3 = Author('Paolo Coelho', 'The Alchemist', 'The Fifth Mountain')\n",
        "auth3.printDetails()            "
      ],
      "execution_count": 14,
      "outputs": [
        {
          "output_type": "stream",
          "name": "stdout",
          "text": [
            "Author Name: Humayun Ahmed\n",
            "--------\n",
            "List of Books: \n",
            "Deyal\n",
            "Megher Opor Bari\n",
            "===================\n",
            "Default\n",
            "===================\n",
            "Author Name: Mario Puzo\n",
            "--------\n",
            "List of Books: \n",
            "The Godfather\n",
            "Omerta\n",
            "The Sicilian\n",
            "===================\n",
            "Author Name: Paolo Coelho\n",
            "--------\n",
            "List of Books: \n",
            "The Alchemist\n",
            "The Fifth Mountain\n"
          ]
        }
      ]
    }
  ]
}